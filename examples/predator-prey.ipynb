{
 "cells": [
  {
   "cell_type": "code",
   "execution_count": 1,
   "metadata": {},
   "outputs": [],
   "source": [
    "# %pip install radcad"
   ]
  },
  {
   "cell_type": "code",
   "execution_count": 2,
   "metadata": {},
   "outputs": [
    {
     "data": {
      "text/plain": [
       "<Figure size 720x360 with 0 Axes>"
      ]
     },
     "metadata": {},
     "output_type": "display_data"
    }
   ],
   "source": [
    "import pandas as pd\n",
    "from tabulate import tabulate\n",
    "import matplotlib.pyplot as plt\n",
    "import seaborn as sns\n",
    "import plotly.express as px\n",
    "\n",
    "plt.figure(figsize=(10, 5))\n",
    "sns.set_style(\"whitegrid\")\n",
    "pd.options.plotting.backend = \"plotly\""
   ]
  },
  {
   "cell_type": "code",
   "execution_count": 3,
   "metadata": {},
   "outputs": [],
   "source": [
    "system_params = {\n",
    "    'prey_reproduction_rate': [0.6, 0.3],\n",
    "    'predator_interaction_factor': [0.0002, 0.0001],\n",
    "    'prey_interaction_factor': [0.002, 0.001],\n",
    "    'prey_death_rate': [0.02, 0.01],\n",
    "    'predator_death_rate': [1.0, 0.5],\n",
    "    'dt': [0.1]\n",
    "}\n",
    "\n",
    "initial_state = {\n",
    "    'prey_population': 100,\n",
    "    'predator_population': 50\n",
    "}"
   ]
  },
  {
   "cell_type": "code",
   "execution_count": 4,
   "metadata": {},
   "outputs": [],
   "source": [
    "import numpy as np\n",
    "\n",
    "\n",
    "def p_reproduce_prey(params, substep, state_history, prev_state, **kwargs):\n",
    "    born_population = prev_state['prey_population'] * params['prey_reproduction_rate'] * params['dt']\n",
    "    return {'add_prey': born_population}\n",
    "\n",
    "\n",
    "def p_reproduce_predators(params, substep, state_history, prev_state, **kwargs):\n",
    "    born_population = prev_state['predator_population'] * prev_state['prey_population'] * params['predator_interaction_factor'] * params['dt']\n",
    "    return {'add_predators': born_population}\n",
    "\n",
    "\n",
    "def p_eliminate_prey(params, substep, state_history, prev_state, **kwargs):\n",
    "    population = prev_state['prey_population']\n",
    "    natural_elimination = population * params['prey_death_rate']\n",
    "    \n",
    "    interaction_elimination = population * prev_state['predator_population'] * params['prey_interaction_factor']\n",
    "    \n",
    "    eliminated_population = natural_elimination + interaction_elimination * params['dt']\n",
    "    return {'add_prey': -1.0 * eliminated_population}\n",
    "\n",
    "\n",
    "def p_eliminate_predators(params, substep, state_history, prev_state, **kwargs):\n",
    "    population = prev_state['predator_population']\n",
    "    eliminated_population = population * params['predator_death_rate'] * params['dt']\n",
    "    return {'add_predators': -1.0 * eliminated_population}\n",
    "\n",
    "\n",
    "def s_prey_population(params, substep, state_history, prev_state, policy_input, **kwargs):\n",
    "    updated_prey_population = np.ceil(prev_state['prey_population'] + policy_input['add_prey'])\n",
    "    return ('prey_population', max(updated_prey_population, 0))\n",
    "\n",
    "\n",
    "def s_predator_population(params, substep, state_history, prev_state, policy_input, **kwargs):\n",
    "    updated_predator_population = np.ceil(prev_state['predator_population'] + policy_input['add_predators'])\n",
    "    return ('predator_population', max(updated_predator_population, 0))"
   ]
  },
  {
   "cell_type": "code",
   "execution_count": 5,
   "metadata": {},
   "outputs": [],
   "source": [
    "state_update_blocks = [\n",
    "    {\n",
    "        'policies': {\n",
    "            'reproduce_prey': p_reproduce_prey,\n",
    "            'reproduce_predators': p_reproduce_predators,\n",
    "            'eliminate_prey': p_eliminate_prey,\n",
    "            'eliminate_predators': p_eliminate_predators\n",
    "        },\n",
    "        'variables': {\n",
    "            'prey_population': s_prey_population,\n",
    "            'predator_population': s_predator_population            \n",
    "        }\n",
    "    }\n",
    "\n",
    "]"
   ]
  },
  {
   "cell_type": "code",
   "execution_count": 6,
   "metadata": {},
   "outputs": [],
   "source": [
    "TIMESTEPS = 1000\n",
    "RUNS = 1"
   ]
  },
  {
   "cell_type": "code",
   "execution_count": 7,
   "metadata": {},
   "outputs": [
    {
     "ename": "ModuleNotFoundError",
     "evalue": "No module named 'radcad'",
     "output_type": "error",
     "traceback": [
      "\u001b[0;31m---------------------------------------------------------------------------\u001b[0m",
      "\u001b[0;31mModuleNotFoundError\u001b[0m                       Traceback (most recent call last)",
      "\u001b[0;32m<ipython-input-7-d660ad9da979>\u001b[0m in \u001b[0;36m<module>\u001b[0;34m\u001b[0m\n\u001b[1;32m      1\u001b[0m \u001b[0;32mimport\u001b[0m \u001b[0mtime\u001b[0m\u001b[0;34m\u001b[0m\u001b[0;34m\u001b[0m\u001b[0m\n\u001b[0;32m----> 2\u001b[0;31m \u001b[0;32mfrom\u001b[0m \u001b[0mradcad\u001b[0m \u001b[0;32mimport\u001b[0m \u001b[0mModel\u001b[0m\u001b[0;34m,\u001b[0m \u001b[0mSimulation\u001b[0m\u001b[0;34m\u001b[0m\u001b[0;34m\u001b[0m\u001b[0m\n\u001b[0m\u001b[1;32m      3\u001b[0m \u001b[0;32mfrom\u001b[0m \u001b[0mradcad\u001b[0m\u001b[0;34m.\u001b[0m\u001b[0mengine\u001b[0m \u001b[0;32mimport\u001b[0m \u001b[0mrun\u001b[0m\u001b[0;34m\u001b[0m\u001b[0;34m\u001b[0m\u001b[0m\n\u001b[1;32m      4\u001b[0m \u001b[0;34m\u001b[0m\u001b[0m\n\u001b[1;32m      5\u001b[0m \u001b[0mmodel\u001b[0m \u001b[0;34m=\u001b[0m \u001b[0mModel\u001b[0m\u001b[0;34m(\u001b[0m\u001b[0minitial_state\u001b[0m\u001b[0;34m=\u001b[0m\u001b[0minitial_state\u001b[0m\u001b[0;34m,\u001b[0m \u001b[0mstate_update_blocks\u001b[0m\u001b[0;34m=\u001b[0m\u001b[0mstate_update_blocks\u001b[0m\u001b[0;34m,\u001b[0m \u001b[0mparams\u001b[0m\u001b[0;34m=\u001b[0m\u001b[0msystem_params\u001b[0m\u001b[0;34m)\u001b[0m\u001b[0;34m\u001b[0m\u001b[0;34m\u001b[0m\u001b[0m\n",
      "\u001b[0;31mModuleNotFoundError\u001b[0m: No module named 'radcad'"
     ]
    }
   ],
   "source": [
    "import time\n",
    "from radcad import Model, Simulation\n",
    "from radcad.engine import run\n",
    "\n",
    "model = Model(initial_state=initial_state, state_update_blocks=state_update_blocks, params=system_params)\n",
    "simulation = Simulation(model=model, timesteps=TIMESTEPS, runs=RUNS)\n",
    "\n",
    "start = time.time()\n",
    "data_rc = run([simulation])\n",
    "end = time.time()\n",
    "duration = end - start\n",
    "print(duration)"
   ]
  },
  {
   "cell_type": "code",
   "execution_count": null,
   "metadata": {},
   "outputs": [],
   "source": [
    "df_radcad = pd.DataFrame(data_rc)\n",
    "df_radcad"
   ]
  },
  {
   "cell_type": "code",
   "execution_count": null,
   "metadata": {},
   "outputs": [],
   "source": [
    "import plotly.express as px\n",
    "\n",
    "plt.figure(figsize=(10, 5))\n",
    "\n",
    "df = df_radcad[df_radcad['subset'] == 1]\n",
    "\n",
    "fig = px.scatter(\n",
    "    df,\n",
    "    x='prey_population',\n",
    "    y='predator_population',\n",
    "    color='timestep'\n",
    ")\n",
    "fig.show()\n",
    "\n",
    "df.plot(\n",
    "    kind='line',\n",
    "    x='timestep',\n",
    "    y=['predator_population','prey_population']\n",
    ")"
   ]
  }
 ],
 "metadata": {
  "kernelspec": {
   "display_name": "Python (Reflexer)",
   "language": "python",
   "name": "python-reflexer"
  },
  "language_info": {
   "codemirror_mode": {
    "name": "ipython",
    "version": 3
   },
   "file_extension": ".py",
   "mimetype": "text/x-python",
   "name": "python",
   "nbconvert_exporter": "python",
   "pygments_lexer": "ipython3",
   "version": "3.8.6"
  }
 },
 "nbformat": 4,
 "nbformat_minor": 4
}
