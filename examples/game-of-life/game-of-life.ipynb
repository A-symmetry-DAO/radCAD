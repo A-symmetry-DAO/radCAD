{
 "cells": [
  {
   "cell_type": "markdown",
   "metadata": {},
   "source": [
    "# Game of Life\n",
    "\n",
    "Based on [drsfenner.org \"Game of Life in Numpy\"](http://drsfenner.org/blog/2015/08/game-of-life-in-numpy-2/) and the notebook [http://drsfenner.org/public/notebooks/GameOfLife.ipynb](http://drsfenner.org/public/notebooks/GameOfLife.ipynb)."
   ]
  },
  {
   "cell_type": "code",
   "execution_count": 1,
   "metadata": {
    "jupyter": {
     "outputs_hidden": false
    }
   },
   "outputs": [],
   "source": [
    "import numpy as np\n",
    "import matplotlib.pyplot as plt\n",
    "from matplotlib.animation import FuncAnimation\n",
    "import time\n",
    "from IPython import display\n",
    "import pandas as pd\n",
    "\n",
    "%matplotlib inline\n",
    "\n",
    "# radCAD Modules\n",
    "from radcad import Model, Simulation, Experiment\n",
    "from radcad.engine import Engine, Backend\n",
    "\n",
    "# radCAD Model\n",
    "from game_of_life import loop, state_update_full, state_update_board"
   ]
  },
  {
   "cell_type": "code",
   "execution_count": 2,
   "metadata": {},
   "outputs": [],
   "source": [
    "from celluloid import Camera\n",
    "from IPython.display import HTML\n",
    "\n",
    "def animate_board(result, file=None):\n",
    "    fig = plt.figure(figsize=(8, 8))\n",
    "    fig.set_tight_layout(True)\n",
    "\n",
    "    fig = plt.figure()\n",
    "    camera = Camera(fig)\n",
    "\n",
    "    def update(timestep):\n",
    "        state = result.iloc[timestep]\n",
    "        plt.imshow(state['board'], cmap=\"binary\", interpolation=\"none\")\n",
    "        plt.axis('off')\n",
    "\n",
    "    for timestep in range(len(result)):\n",
    "        update(timestep)\n",
    "        camera.snap()\n",
    "\n",
    "    animation = camera.animate()\n",
    "\n",
    "    if file:\n",
    "        animation.save(file, writer='pillow')\n",
    "    # Set to local ffmpeg executable file\n",
    "    plt.rcParams['animation.ffmpeg_path'] = '/usr/local/bin/ffmpeg'\n",
    "    return HTML(animation.to_html5_video())"
   ]
  },
  {
   "cell_type": "code",
   "execution_count": 3,
   "metadata": {},
   "outputs": [],
   "source": [
    "board_size = (10, 10)\n",
    "nd_slice = (slice(1, -1),) * len(board_size)\n",
    "\n",
    "def generate_new_board():\n",
    "    full_size = tuple(i+2 for i in board_size)\n",
    "    full = np.zeros(full_size, dtype=np.uint8)\n",
    "    board = full[nd_slice]\n",
    "    return full, board\n",
    "\n",
    "full, board = generate_new_board()\n",
    "\n",
    "ruleOfLifeAlive = np.zeros(8+1, np.uint8)\n",
    "ruleOfLifeAlive[[2,3]] = 1\n",
    "\n",
    "ruleOfLifeDead = np.zeros(8+1, np.uint8)\n",
    "ruleOfLifeDead[3] = 1\n",
    "\n",
    "params = {\n",
    "    'dims': [len(board.shape)],\n",
    "    'nd_slice': [nd_slice],\n",
    "    'ruleOfLifeAlive': [ruleOfLifeAlive],\n",
    "    'ruleOfLifeDead': [ruleOfLifeDead]\n",
    "}\n",
    "\n",
    "initial_state = {\n",
    "    'full': full,\n",
    "    'board': board,\n",
    "}\n",
    "\n",
    "state_update_blocks = [\n",
    "    {\n",
    "        'policies': {\n",
    "            'loop': loop\n",
    "        },\n",
    "        'variables': {\n",
    "            'full': state_update_full,\n",
    "            'board': state_update_board\n",
    "        }\n",
    "    }\n",
    "]"
   ]
  },
  {
   "cell_type": "code",
   "execution_count": 4,
   "metadata": {},
   "outputs": [],
   "source": [
    "TIMESTEPS = 10\n",
    "RUNS = 1\n",
    "\n",
    "model = Model(initial_state=initial_state, state_update_blocks=state_update_blocks, params=params)\n",
    "simulation = Simulation(model=model, timesteps=TIMESTEPS, runs=RUNS)"
   ]
  },
  {
   "cell_type": "code",
   "execution_count": 5,
   "metadata": {},
   "outputs": [
    {
     "data": {
      "text/html": [
       "<video width=\"432\" height=\"288\" controls autoplay loop>\n",
       "  <source type=\"video/mp4\" src=\"data:video/mp4;base64,AAAAIGZ0eXBNNFYgAAACAE00ViBpc29taXNvMmF2YzEAAAAIZnJlZQAABSJtZGF0AAACrQYF//+p\n",
       "3EXpvebZSLeWLNgg2SPu73gyNjQgLSBjb3JlIDE2MSByMzAyNyA0MTIxMjc3IC0gSC4yNjQvTVBF\n",
       "Ry00IEFWQyBjb2RlYyAtIENvcHlsZWZ0IDIwMDMtMjAyMCAtIGh0dHA6Ly93d3cudmlkZW9sYW4u\n",
       "b3JnL3gyNjQuaHRtbCAtIG9wdGlvbnM6IGNhYmFjPTEgcmVmPTMgZGVibG9jaz0xOjA6MCBhbmFs\n",
       "eXNlPTB4MzoweDExMyBtZT1oZXggc3VibWU9NyBwc3k9MSBwc3lfcmQ9MS4wMDowLjAwIG1peGVk\n",
       "X3JlZj0xIG1lX3JhbmdlPTE2IGNocm9tYV9tZT0xIHRyZWxsaXM9MSA4eDhkY3Q9MSBjcW09MCBk\n",
       "ZWFkem9uZT0yMSwxMSBmYXN0X3Bza2lwPTEgY2hyb21hX3FwX29mZnNldD0tMiB0aHJlYWRzPTkg\n",
       "bG9va2FoZWFkX3RocmVhZHM9MSBzbGljZWRfdGhyZWFkcz0wIG5yPTAgZGVjaW1hdGU9MSBpbnRl\n",
       "cmxhY2VkPTAgYmx1cmF5X2NvbXBhdD0wIGNvbnN0cmFpbmVkX2ludHJhPTAgYmZyYW1lcz0zIGJf\n",
       "cHlyYW1pZD0yIGJfYWRhcHQ9MSBiX2JpYXM9MCBkaXJlY3Q9MSB3ZWlnaHRiPTEgb3Blbl9nb3A9\n",
       "MCB3ZWlnaHRwPTIga2V5aW50PTI1MCBrZXlpbnRfbWluPTUgc2NlbmVjdXQ9NDAgaW50cmFfcmVm\n",
       "cmVzaD0wIHJjX2xvb2thaGVhZD00MCByYz1jcmYgbWJ0cmVlPTEgY3JmPTIzLjAgcWNvbXA9MC42\n",
       "MCBxcG1pbj0wIHFwbWF4PTY5IHFwc3RlcD00IGlwX3JhdGlvPTEuNDAgYXE9MToxLjAwAIAAAACo\n",
       "ZYiEABP//vexj4FNyAANlzqKeh/hFbH0kFF6sdmgZOoAAAMAAImBjhZAtblacVAAAN+AAZckyqPu\n",
       "DdR/jPk3+IAWJ8/SgAZ8kmSa5+fbjIGPj9oCPEu+WPtZai/Pv68A6/pHUJfd7jg2JZI8hMyHsZXi\n",
       "cHAu/EtPSncJEvdWZzBeUmy23XCKWs/lVe6n8y+zhguqti+PROcx63YxiFe0F1I8AAADAAtZAAAA\n",
       "dkGaJGxBL/61KoAAWUZZoAWJR8R+D4HzIWDxWLSG55uQvfq0j0bB+1mIGdpnfPoOcacUR575CYOI\n",
       "3kafmGAYSYbVY5w00w2SvKZOnLDSO/3HKBOKp2Hey2/2a516M52v/q3GD3MT0VO2zIDn2yJc/sRv\n",
       "gb/J3tAAAAAYQZ5CeIIfAABuaHTJ6h9wXpaB7UbT5hSVAAAAFwGeYXRD/wAA8v5mplYtcCbFJz4z\n",
       "SnHAAAAAGQGeY2pD/wAA8wXzjBYYkyf4OKKzBni6SoEAAAAVQZpmSahBaJlMFPBL//61KoAAAB6x\n",
       "AAAAMwGehWpD/wAA8rBXr9+bD1H2cM9tna0kKeHBLXgAHRH/8JEDI/824eNk8OkJj85mAe0n4QAA\n",
       "ABRBmohJ4QpSZTBSwR/+tSqAAAAesQAAADMBnqdqQ/8AAPKwV6/fmw9R9nDPbZ2tJCnhwS14AB0R\n",
       "//CRAyP/NuHjZPDpCY/OZgHtJ+AAAAAVQZqqSeEOiZTBRMP//qmWAAADAPCAAAAAMwGeyWpD/wAA\n",
       "8rBXr9+bD1H2cM9tna0kKeHBLXgAHRH/8JEDI/824eNk8OkJj85mAe0n4QAAA7Ztb292AAAAbG12\n",
       "aGQAAAAAAAAAAAAAAAAAAAPoAAAImAABAAABAAAAAAAAAAAAAAAAAQAAAAAAAAAAAAAAAAAAAAEA\n",
       "AAAAAAAAAAAAAAAAAEAAAAAAAAAAAAAAAAAAAAAAAAAAAAAAAAAAAAAAAAACAAAC4HRyYWsAAABc\n",
       "dGtoZAAAAAMAAAAAAAAAAAAAAAEAAAAAAAAImAAAAAAAAAAAAAAAAAAAAAAAAQAAAAAAAAAAAAAA\n",
       "AAAAAAEAAAAAAAAAAAAAAAAAAEAAAAABsAAAASAAAAAAACRlZHRzAAAAHGVsc3QAAAAAAAAAAQAA\n",
       "CJgAABAAAAEAAAAAAlhtZGlhAAAAIG1kaGQAAAAAAAAAAAAAAAAAACgAAABYAFXEAAAAAAAtaGRs\n",
       "cgAAAAAAAAAAdmlkZQAAAAAAAAAAAAAAAFZpZGVvSGFuZGxlcgAAAAIDbWluZgAAABR2bWhkAAAA\n",
       "AQAAAAAAAAAAAAAAJGRpbmYAAAAcZHJlZgAAAAAAAAABAAAADHVybCAAAAABAAABw3N0YmwAAAC3\n",
       "c3RzZAAAAAAAAAABAAAAp2F2YzEAAAAAAAAAAQAAAAAAAAAAAAAAAAAAAAABsAEgAEgAAABIAAAA\n",
       "AAAAAAEAAAAAAAAAAAAAAAAAAAAAAAAAAAAAAAAAAAAAAAAAAAAY//8AAAA1YXZjQwFkABX/4QAY\n",
       "Z2QAFazZQbCWhAAAAwAEAAADACg8WLZYAQAGaOvjyyLA/fj4AAAAABx1dWlka2hA8l8kT8W6OaUb\n",
       "zwMj8wAAAAAAAAAYc3R0cwAAAAAAAAABAAAACwAACAAAAAAUc3RzcwAAAAAAAAABAAAAAQAAAGhj\n",
       "dHRzAAAAAAAAAAsAAAABAAAQAAAAAAEAACgAAAAAAQAAEAAAAAABAAAAAAAAAAEAAAgAAAAAAQAA\n",
       "GAAAAAABAAAIAAAAAAEAABgAAAAAAQAACAAAAAABAAAYAAAAAAEAAAgAAAAAHHN0c2MAAAAAAAAA\n",
       "AQAAAAEAAAALAAAAAQAAAEBzdHN6AAAAAAAAAAAAAAALAAADXQAAAHoAAAAcAAAAGwAAAB0AAAAZ\n",
       "AAAANwAAABgAAAA3AAAAGQAAADcAAAAUc3RjbwAAAAAAAAABAAAAMAAAAGJ1ZHRhAAAAWm1ldGEA\n",
       "AAAAAAAAIWhkbHIAAAAAAAAAAG1kaXJhcHBsAAAAAAAAAAAAAAAALWlsc3QAAAAlqXRvbwAAAB1k\n",
       "YXRhAAAAAQAAAABMYXZmNTguNDUuMTAw\n",
       "\">\n",
       "  Your browser does not support the video tag.\n",
       "</video>"
      ],
      "text/plain": [
       "<IPython.core.display.HTML object>"
      ]
     },
     "execution_count": 5,
     "metadata": {},
     "output_type": "execute_result"
    },
    {
     "data": {
      "text/plain": [
       "<Figure size 576x576 with 0 Axes>"
      ]
     },
     "metadata": {},
     "output_type": "display_data"
    },
    {
     "data": {
      "image/png": "[encoded data removed]",
      "text/plain": [
       "<Figure size 432x288 with 1 Axes>"
      ]
     },
     "metadata": {
      "needs_background": "light"
     },
     "output_type": "display_data"
    }
   ],
   "source": [
    "full, board = generate_new_board()\n",
    "\n",
    "board[4:6, 4:6] = 1\n",
    "board[6:8, 6:8] = 1\n",
    "\n",
    "model.initial_state = {\n",
    "    'full': full,\n",
    "    'board': board,\n",
    "}\n",
    "simulation.model = model\n",
    "\n",
    "result = simulation.run()\n",
    "df = pd.DataFrame(result)\n",
    "\n",
    "animate_board(df)"
   ]
  },
  {
   "cell_type": "code",
   "execution_count": 6,
   "metadata": {},
   "outputs": [
    {
     "data": {
      "text/html": [
       "<video width=\"432\" height=\"288\" controls autoplay loop>\n",
       "  <source type=\"video/mp4\" src=\"data:video/mp4;base64,AAAAIGZ0eXBNNFYgAAACAE00ViBpc29taXNvMmF2YzEAAAAIZnJlZQAACs1tZGF0AAACrQYF//+p\n",
       "3EXpvebZSLeWLNgg2SPu73gyNjQgLSBjb3JlIDE2MSByMzAyNyA0MTIxMjc3IC0gSC4yNjQvTVBF\n",
       "Ry00IEFWQyBjb2RlYyAtIENvcHlsZWZ0IDIwMDMtMjAyMCAtIGh0dHA6Ly93d3cudmlkZW9sYW4u\n",
       "b3JnL3gyNjQuaHRtbCAtIG9wdGlvbnM6IGNhYmFjPTEgcmVmPTMgZGVibG9jaz0xOjA6MCBhbmFs\n",
       "eXNlPTB4MzoweDExMyBtZT1oZXggc3VibWU9NyBwc3k9MSBwc3lfcmQ9MS4wMDowLjAwIG1peGVk\n",
       "X3JlZj0xIG1lX3JhbmdlPTE2IGNocm9tYV9tZT0xIHRyZWxsaXM9MSA4eDhkY3Q9MSBjcW09MCBk\n",
       "ZWFkem9uZT0yMSwxMSBmYXN0X3Bza2lwPTEgY2hyb21hX3FwX29mZnNldD0tMiB0aHJlYWRzPTkg\n",
       "bG9va2FoZWFkX3RocmVhZHM9MSBzbGljZWRfdGhyZWFkcz0wIG5yPTAgZGVjaW1hdGU9MSBpbnRl\n",
       "cmxhY2VkPTAgYmx1cmF5X2NvbXBhdD0wIGNvbnN0cmFpbmVkX2ludHJhPTAgYmZyYW1lcz0zIGJf\n",
       "cHlyYW1pZD0yIGJfYWRhcHQ9MSBiX2JpYXM9MCBkaXJlY3Q9MSB3ZWlnaHRiPTEgb3Blbl9nb3A9\n",
       "MCB3ZWlnaHRwPTIga2V5aW50PTI1MCBrZXlpbnRfbWluPTUgc2NlbmVjdXQ9NDAgaW50cmFfcmVm\n",
       "cmVzaD0wIHJjX2xvb2thaGVhZD00MCByYz1jcmYgbWJ0cmVlPTEgY3JmPTIzLjAgcWNvbXA9MC42\n",
       "MCBxcG1pbj0wIHFwbWF4PTY5IHFwc3RlcD00IGlwX3JhdGlvPTEuNDAgYXE9MToxLjAwAIAAAAD/\n",
       "ZYiEABL//vet34FNwEDta7pXOLTLq5Q0PVH2lKZ4tkgAAAMAA44es10aknua0GgABbwACmjRupbi\n",
       "QVXYlP4M9/wAM7vOJzoswbY9NL30e0RY8xoWQ76h4wF1TqCzeh2wCbk+TmAQ1OPmSO27UbcsiXs/\n",
       "mZ8s9jAwW/Vlp8YvlzsNtomYdi+5jfGa4Rt/7TWShx+Yvn+DTr98eNzE58sJqDqsOmHEB4PvrGVr\n",
       "G8ka09wW3aGI00pp4ANExvx7MokNVx61yQd1sjL9UPddF4jGgfcVX77TnhLrTdjn49b+4brz7EX1\n",
       "8/ym4TaML/4m5NV9Gw/9IySyvEUwAAADABaRAAAA/EGaI2xBH/61KoABb+I7OvN70AAc3i3/5/A6\n",
       "Ee8lfm89zNZwr8AVoI3OjjmVPisXwFSQqsLLoAU5dfmAFsPGlxfow07FJVd6BSf8WSsNp3JggGbs\n",
       "n1D3ylX8MWxQsMLxmzp43m+/OnWzHB/6l1PdWI0fGB3pvLfb/sGw+w2uQpvUITYxXZYXVFyPfHzb\n",
       "lOrw0YEjaD+KkfZR3nm41NWgA9lFTvOfQ6JunptHWKS3nQl/WniAWxveTIb35eybk1yUXnN5yXSL\n",
       "h3CJQKNTmeTfRTtUy5Da/+gscmS2PklK0b8pWu7U+9keeD8WVU1CWLQSoouF1ezKIqj8SR4T4AAA\n",
       "AMlBnkF4gh8AAcTKbFIGv8QkaoAwYp31B2GFN6khk9uABoSnABFj2MdYJ+TFRD/igEUmaWoU9usr\n",
       "1PXdrMmJx8/Aiqk5IefysuIGzR8lLJJZoRmlP6tXuK/YMRB9P/p1QLnsAEEbYgHUT6K+QlPV+819\n",
       "Ny8qos9yCXIta0/AMgmTq9okrCWJ08HB/Kha9OVt8dMIJ5deMioxmQVhhkZ9TktvdHBjpimHZ6gS\n",
       "Pa/MQ6C19em/Ze656SqH2966w0J4vWLi9KglmJwYugsAAACmAZ5iakP/AAcTshXsoV909Ci922C/\n",
       "8GZpSFmzTJjyMUKMMIAIyuox4EMNgUJx4a6zBwjAOa/+DVzFDlgBOWJOf11SLjeXg9LgMWuhE8p6\n",
       "+oNiqzrJ6WwB0ZFftKehIinQBaOY3T7f8aoXRLfclf/zKAAIgDRdoI/dwHgTEQurBKTyxEpzZUHt\n",
       "eA7p76uXGcb5hr2WCp/BWHyWULPELkgRTBwiMTfLgAAAAS1BmmRJqEFomUwII//+tSqABZSh1AAt\n",
       "63gVwSkxHzoj7gkuVM2vuJATHP/g2cY7PY6haQEzNK+JITc6l3aTcyfgiURWl1RACG/+zqzChxI6\n",
       "OCjlb2A+7+Lgb0D+oLe1zJvt/HNK8dgF24iDsD5gZjln1ag8zPPFmksY+YQIZr7Xnj+CmnCvMUIt\n",
       "T2xwdHKphd429BvyRGpnrk/B7Fwkejqe2jYZHN5JPlIRfs6dMcm4EbX4xULosCWDjKo7CK9xmG7C\n",
       "GpKCc3w6jUsWTNjEcUL1r+zpoemVlfAHtqFAiOIAb/hr6YB+L/FSlY3bj1ezXwJkDkX6WFSZvozE\n",
       "KQ9PcP1WOY2/A9yY+dOI1PgxP/Rijth5/6rz7nqJ9rgwKeJXfJK9azAuW90jaGi8ho6TAAAA0UGa\n",
       "hUnhClJlMCCP//61KoAFu2LVgIuGO9xiEX/0xjIQAczzvRfBBaUJKZ61aASU+ZR4nYZQVj8YTN3o\n",
       "/4pkgbmWbVlkJAY5Fvp6RGxElkp/2VikX3bkf0Hx9R+sKig+Y+5vid9CGoq+IPlhK2GILN2l3TST\n",
       "yrr80MEAW4ajTYTyF7UGjUdTB0iDVNGQYf6wBy9MZV3aN4+SH5q+hRCr4hb9vi8OACdzHCPhwGGT\n",
       "Gmqz2TYXsone7pDm8IZb1JegkenGg8MoweOyk6lxusJeXoSBAAAA4EGapknhDomUwII//rUqgAs3\n",
       "Ef8GWAgAEN2r///4E3RFgFcH44bThswPQF5BeIXElenwU14X1OgFMkKsX3tF51kMnsHE1Y8qqKoM\n",
       "kl378HqorI6w3juj8qQ3HVUqSBn4WbGc/ogB/Lr1n9sxJt8qxeuuLZeRmTEAHmjyYu0doQBb/yX+\n",
       "nlQEAKyxiJG47Iw/rr1iwFLZo1jVyanMKBecHBjhcHjoSxgbNSXRJfyzlABwJ9Xs+FqCa0X7/GQ2\n",
       "kNcVQMfBuQTtagnn5f1VXGDq2o/KUEssujhAGb8MFl7IdAChAAAAjUGax0nhDyZTAgj//rUqgAs3\n",
       "0GGXs2IW7DiTnnY6YUCrGxNMNeN4JdTgADRUYBkQD/9FGczXQiv+Jr5G2z6F/Bj6m/Dt2menx56n\n",
       "Adol0945jkutM8wEjOxD+MFGs/RIkv/ocNjXWgZdYptVTAAGBJsuT6Tze2EVYCghVVzbJwBIYtgk\n",
       "S23JxQoAZRt0dQAAAFpBmuhJ4Q8mUwII//61KoALJ1GE9UuU+wf2bnXtGEKZRQT4i0Thq41o08gB\n",
       "+U4QffcwFbfseFSmSs/DlKSMdDZYOpkPNWAARYAFh8THApwfhIUGET4d4aZLbPQAAABmQZsJSeEP\n",
       "JlMCCH/+qlUAFm+L16rscv/EP0X2q6spj6sL7IiG2t0IuQh0YAAdpoJUQxQI5Jzcx+9vOSf+QkZ0\n",
       "mgSj5WVgICMIMB6r12IhvlJETp79dffQom7KW8JCSW8YpIA+uFreAAAAU0GbKknhDyZTAh///qmW\n",
       "AFcCYIiF3vfCkfGmgZ77IQDO2x9ZXweQfFJGLJ/eK5eTCBK67rDSb4AAFY36XpRtPwBdgcmFLvDR\n",
       "FwaEfuGkLgAA4G3hAAADfm1vb3YAAABsbXZoZAAAAAAAAAAAAAAAAAAAA+gAAAiYAAEAAAEAAAAA\n",
       "AAAAAAAAAAABAAAAAAAAAAAAAAAAAAAAAQAAAAAAAAAAAAAAAAAAQAAAAAAAAAAAAAAAAAAAAAAA\n",
       "AAAAAAAAAAAAAAAAAAIAAAKodHJhawAAAFx0a2hkAAAAAwAAAAAAAAAAAAAAAQAAAAAAAAiYAAAA\n",
       "AAAAAAAAAAAAAAAAAAABAAAAAAAAAAAAAAAAAAAAAQAAAAAAAAAAAAAAAAAAQAAAAAGwAAABIAAA\n",
       "AAAAJGVkdHMAAAAcZWxzdAAAAAAAAAABAAAImAAAEAAAAQAAAAACIG1kaWEAAAAgbWRoZAAAAAAA\n",
       "AAAAAAAAAAAAKAAAAFgAVcQAAAAAAC1oZGxyAAAAAAAAAAB2aWRlAAAAAAAAAAAAAAAAVmlkZW9I\n",
       "YW5kbGVyAAAAActtaW5mAAAAFHZtaGQAAAABAAAAAAAAAAAAAAAkZGluZgAAABxkcmVmAAAAAAAA\n",
       "AAEAAAAMdXJsIAAAAAEAAAGLc3RibAAAALdzdHNkAAAAAAAAAAEAAACnYXZjMQAAAAAAAAABAAAA\n",
       "AAAAAAAAAAAAAAAAAAGwASAASAAAAEgAAAAAAAAAAQAAAAAAAAAAAAAAAAAAAAAAAAAAAAAAAAAA\n",
       "AAAAAAAAABj//wAAADVhdmNDAWQAFf/hABhnZAAVrNlBsJaEAAADAAQAAAMAKDxYtlgBAAZo6+PL\n",
       "IsD9+PgAAAAAHHV1aWRraEDyXyRPxbo5pRvPAyPzAAAAAAAAABhzdHRzAAAAAAAAAAEAAAALAAAI\n",
       "AAAAABRzdHNzAAAAAAAAAAEAAAABAAAAMGN0dHMAAAAAAAAABAAAAAEAABAAAAAAAQAAIAAAAAAC\n",
       "AAAIAAAAAAcAABAAAAAAHHN0c2MAAAAAAAAAAQAAAAEAAAALAAAAAQAAAEBzdHN6AAAAAAAAAAAA\n",
       "AAALAAADtAAAAQAAAADNAAAAqgAAATEAAADVAAAA5AAAAJEAAABeAAAAagAAAFcAAAAUc3RjbwAA\n",
       "AAAAAAABAAAAMAAAAGJ1ZHRhAAAAWm1ldGEAAAAAAAAAIWhkbHIAAAAAAAAAAG1kaXJhcHBsAAAA\n",
       "AAAAAAAAAAAALWlsc3QAAAAlqXRvbwAAAB1kYXRhAAAAAQAAAABMYXZmNTguNDUuMTAw\n",
       "\">\n",
       "  Your browser does not support the video tag.\n",
       "</video>"
      ],
      "text/plain": [
       "<IPython.core.display.HTML object>"
      ]
     },
     "execution_count": 6,
     "metadata": {},
     "output_type": "execute_result"
    },
    {
     "data": {
      "text/plain": [
       "<Figure size 576x576 with 0 Axes>"
      ]
     },
     "metadata": {},
     "output_type": "display_data"
    },
    {
     "data": {
      "image/png": "[encoded data removed]",
      "text/plain": [
       "<Figure size 432x288 with 1 Axes>"
      ]
     },
     "metadata": {
      "needs_background": "light"
     },
     "output_type": "display_data"
    }
   ],
   "source": [
    "full, board = generate_new_board()\n",
    "\n",
    "board[4, 5] = 1\n",
    "board[5, 4:7] = 1\n",
    "board[6, 5] = 1\n",
    "\n",
    "model.initial_state = {\n",
    "    'full': full,\n",
    "    'board': board,\n",
    "}\n",
    "simulation.model = model\n",
    "\n",
    "result = simulation.run()\n",
    "df = pd.DataFrame(result)\n",
    "\n",
    "animate_board(df)"
   ]
  },
  {
   "cell_type": "code",
   "execution_count": 7,
   "metadata": {},
   "outputs": [
    {
     "ename": "FileNotFoundError",
     "evalue": "[Errno 2] No such file or directory: './game-of-life/game-of-life.gif'",
     "output_type": "error",
     "traceback": [
      "\u001b[0;31m---------------------------------------------------------------------------\u001b[0m",
      "\u001b[0;31mFileNotFoundError\u001b[0m                         Traceback (most recent call last)",
      "\u001b[0;32m<ipython-input-7-b4ad3210939b>\u001b[0m in \u001b[0;36m<module>\u001b[0;34m\u001b[0m\n\u001b[1;32m     15\u001b[0m \u001b[0mdf\u001b[0m \u001b[0;34m=\u001b[0m \u001b[0mpd\u001b[0m\u001b[0;34m.\u001b[0m\u001b[0mDataFrame\u001b[0m\u001b[0;34m(\u001b[0m\u001b[0mresult\u001b[0m\u001b[0;34m)\u001b[0m\u001b[0;34m\u001b[0m\u001b[0;34m\u001b[0m\u001b[0m\n\u001b[1;32m     16\u001b[0m \u001b[0;34m\u001b[0m\u001b[0m\n\u001b[0;32m---> 17\u001b[0;31m \u001b[0manimate_board\u001b[0m\u001b[0;34m(\u001b[0m\u001b[0mdf\u001b[0m\u001b[0;34m,\u001b[0m \u001b[0mfile\u001b[0m\u001b[0;34m=\u001b[0m\u001b[0;34m'./game-of-life/game-of-life.gif'\u001b[0m\u001b[0;34m)\u001b[0m\u001b[0;34m\u001b[0m\u001b[0;34m\u001b[0m\u001b[0m\n\u001b[0m",
      "\u001b[0;32m<ipython-input-2-bba2b75f7005>\u001b[0m in \u001b[0;36manimate_board\u001b[0;34m(result, file)\u001b[0m\n\u001b[1;32m     21\u001b[0m \u001b[0;34m\u001b[0m\u001b[0m\n\u001b[1;32m     22\u001b[0m     \u001b[0;32mif\u001b[0m \u001b[0mfile\u001b[0m\u001b[0;34m:\u001b[0m\u001b[0;34m\u001b[0m\u001b[0;34m\u001b[0m\u001b[0m\n\u001b[0;32m---> 23\u001b[0;31m         \u001b[0manimation\u001b[0m\u001b[0;34m.\u001b[0m\u001b[0msave\u001b[0m\u001b[0;34m(\u001b[0m\u001b[0mfile\u001b[0m\u001b[0;34m,\u001b[0m \u001b[0mwriter\u001b[0m\u001b[0;34m=\u001b[0m\u001b[0;34m'pillow'\u001b[0m\u001b[0;34m)\u001b[0m\u001b[0;34m\u001b[0m\u001b[0;34m\u001b[0m\u001b[0m\n\u001b[0m\u001b[1;32m     24\u001b[0m     \u001b[0;31m# Set to local ffmpeg executable file\u001b[0m\u001b[0;34m\u001b[0m\u001b[0;34m\u001b[0m\u001b[0;34m\u001b[0m\u001b[0m\n\u001b[1;32m     25\u001b[0m     \u001b[0mplt\u001b[0m\u001b[0;34m.\u001b[0m\u001b[0mrcParams\u001b[0m\u001b[0;34m[\u001b[0m\u001b[0;34m'animation.ffmpeg_path'\u001b[0m\u001b[0;34m]\u001b[0m \u001b[0;34m=\u001b[0m \u001b[0;34m'/usr/local/bin/ffmpeg'\u001b[0m\u001b[0;34m\u001b[0m\u001b[0;34m\u001b[0m\u001b[0m\n",
      "\u001b[0;32m~/opt/anaconda3/envs/cadcad-edu/lib/python3.8/site-packages/matplotlib/animation.py\u001b[0m in \u001b[0;36msave\u001b[0;34m(self, filename, writer, fps, dpi, codec, bitrate, extra_args, metadata, extra_anim, savefig_kwargs, progress_callback)\u001b[0m\n\u001b[1;32m   1135\u001b[0m                         \u001b[0mprogress_callback\u001b[0m\u001b[0;34m(\u001b[0m\u001b[0mframe_number\u001b[0m\u001b[0;34m,\u001b[0m \u001b[0mtotal_frames\u001b[0m\u001b[0;34m)\u001b[0m\u001b[0;34m\u001b[0m\u001b[0;34m\u001b[0m\u001b[0m\n\u001b[1;32m   1136\u001b[0m                         \u001b[0mframe_number\u001b[0m \u001b[0;34m+=\u001b[0m \u001b[0;36m1\u001b[0m\u001b[0;34m\u001b[0m\u001b[0;34m\u001b[0m\u001b[0m\n\u001b[0;32m-> 1137\u001b[0;31m                 \u001b[0mwriter\u001b[0m\u001b[0;34m.\u001b[0m\u001b[0mgrab_frame\u001b[0m\u001b[0;34m(\u001b[0m\u001b[0;34m**\u001b[0m\u001b[0msavefig_kwargs\u001b[0m\u001b[0;34m)\u001b[0m\u001b[0;34m\u001b[0m\u001b[0;34m\u001b[0m\u001b[0m\n\u001b[0m\u001b[1;32m   1138\u001b[0m \u001b[0;34m\u001b[0m\u001b[0m\n\u001b[1;32m   1139\u001b[0m     \u001b[0;32mdef\u001b[0m \u001b[0m_step\u001b[0m\u001b[0;34m(\u001b[0m\u001b[0mself\u001b[0m\u001b[0;34m,\u001b[0m \u001b[0;34m*\u001b[0m\u001b[0margs\u001b[0m\u001b[0;34m)\u001b[0m\u001b[0;34m:\u001b[0m\u001b[0;34m\u001b[0m\u001b[0;34m\u001b[0m\u001b[0m\n",
      "\u001b[0;32m~/opt/anaconda3/envs/cadcad-edu/lib/python3.8/contextlib.py\u001b[0m in \u001b[0;36m__exit__\u001b[0;34m(self, type, value, traceback)\u001b[0m\n\u001b[1;32m    118\u001b[0m         \u001b[0;32mif\u001b[0m \u001b[0mtype\u001b[0m \u001b[0;32mis\u001b[0m \u001b[0;32mNone\u001b[0m\u001b[0;34m:\u001b[0m\u001b[0;34m\u001b[0m\u001b[0;34m\u001b[0m\u001b[0m\n\u001b[1;32m    119\u001b[0m             \u001b[0;32mtry\u001b[0m\u001b[0;34m:\u001b[0m\u001b[0;34m\u001b[0m\u001b[0;34m\u001b[0m\u001b[0m\n\u001b[0;32m--> 120\u001b[0;31m                 \u001b[0mnext\u001b[0m\u001b[0;34m(\u001b[0m\u001b[0mself\u001b[0m\u001b[0;34m.\u001b[0m\u001b[0mgen\u001b[0m\u001b[0;34m)\u001b[0m\u001b[0;34m\u001b[0m\u001b[0;34m\u001b[0m\u001b[0m\n\u001b[0m\u001b[1;32m    121\u001b[0m             \u001b[0;32mexcept\u001b[0m \u001b[0mStopIteration\u001b[0m\u001b[0;34m:\u001b[0m\u001b[0;34m\u001b[0m\u001b[0;34m\u001b[0m\u001b[0m\n\u001b[1;32m    122\u001b[0m                 \u001b[0;32mreturn\u001b[0m \u001b[0;32mFalse\u001b[0m\u001b[0;34m\u001b[0m\u001b[0;34m\u001b[0m\u001b[0m\n",
      "\u001b[0;32m~/opt/anaconda3/envs/cadcad-edu/lib/python3.8/site-packages/matplotlib/animation.py\u001b[0m in \u001b[0;36msaving\u001b[0;34m(self, fig, outfile, dpi, *args, **kwargs)\u001b[0m\n\u001b[1;32m    251\u001b[0m             \u001b[0;32myield\u001b[0m \u001b[0mself\u001b[0m\u001b[0;34m\u001b[0m\u001b[0;34m\u001b[0m\u001b[0m\n\u001b[1;32m    252\u001b[0m         \u001b[0;32mfinally\u001b[0m\u001b[0;34m:\u001b[0m\u001b[0;34m\u001b[0m\u001b[0;34m\u001b[0m\u001b[0m\n\u001b[0;32m--> 253\u001b[0;31m             \u001b[0mself\u001b[0m\u001b[0;34m.\u001b[0m\u001b[0mfinish\u001b[0m\u001b[0;34m(\u001b[0m\u001b[0;34m)\u001b[0m\u001b[0;34m\u001b[0m\u001b[0;34m\u001b[0m\u001b[0m\n\u001b[0m\u001b[1;32m    254\u001b[0m \u001b[0;34m\u001b[0m\u001b[0m\n\u001b[1;32m    255\u001b[0m \u001b[0;34m\u001b[0m\u001b[0m\n",
      "\u001b[0;32m~/opt/anaconda3/envs/cadcad-edu/lib/python3.8/site-packages/matplotlib/animation.py\u001b[0m in \u001b[0;36mfinish\u001b[0;34m(self)\u001b[0m\n\u001b[1;32m    551\u001b[0m \u001b[0;34m\u001b[0m\u001b[0m\n\u001b[1;32m    552\u001b[0m     \u001b[0;32mdef\u001b[0m \u001b[0mfinish\u001b[0m\u001b[0;34m(\u001b[0m\u001b[0mself\u001b[0m\u001b[0;34m)\u001b[0m\u001b[0;34m:\u001b[0m\u001b[0;34m\u001b[0m\u001b[0;34m\u001b[0m\u001b[0m\n\u001b[0;32m--> 553\u001b[0;31m         self._frames[0].save(\n\u001b[0m\u001b[1;32m    554\u001b[0m             \u001b[0mself\u001b[0m\u001b[0;34m.\u001b[0m\u001b[0moutfile\u001b[0m\u001b[0;34m,\u001b[0m \u001b[0msave_all\u001b[0m\u001b[0;34m=\u001b[0m\u001b[0;32mTrue\u001b[0m\u001b[0;34m,\u001b[0m \u001b[0mappend_images\u001b[0m\u001b[0;34m=\u001b[0m\u001b[0mself\u001b[0m\u001b[0;34m.\u001b[0m\u001b[0m_frames\u001b[0m\u001b[0;34m[\u001b[0m\u001b[0;36m1\u001b[0m\u001b[0;34m:\u001b[0m\u001b[0;34m]\u001b[0m\u001b[0;34m,\u001b[0m\u001b[0;34m\u001b[0m\u001b[0;34m\u001b[0m\u001b[0m\n\u001b[1;32m    555\u001b[0m             duration=int(1000 / self.fps), loop=0)\n",
      "\u001b[0;32m~/opt/anaconda3/envs/cadcad-edu/lib/python3.8/site-packages/PIL/Image.py\u001b[0m in \u001b[0;36msave\u001b[0;34m(self, fp, format, **params)\u001b[0m\n\u001b[1;32m   2153\u001b[0m                 \u001b[0mfp\u001b[0m \u001b[0;34m=\u001b[0m \u001b[0mbuiltins\u001b[0m\u001b[0;34m.\u001b[0m\u001b[0mopen\u001b[0m\u001b[0;34m(\u001b[0m\u001b[0mfilename\u001b[0m\u001b[0;34m,\u001b[0m \u001b[0;34m\"r+b\"\u001b[0m\u001b[0;34m)\u001b[0m\u001b[0;34m\u001b[0m\u001b[0;34m\u001b[0m\u001b[0m\n\u001b[1;32m   2154\u001b[0m             \u001b[0;32melse\u001b[0m\u001b[0;34m:\u001b[0m\u001b[0;34m\u001b[0m\u001b[0;34m\u001b[0m\u001b[0m\n\u001b[0;32m-> 2155\u001b[0;31m                 \u001b[0mfp\u001b[0m \u001b[0;34m=\u001b[0m \u001b[0mbuiltins\u001b[0m\u001b[0;34m.\u001b[0m\u001b[0mopen\u001b[0m\u001b[0;34m(\u001b[0m\u001b[0mfilename\u001b[0m\u001b[0;34m,\u001b[0m \u001b[0;34m\"w+b\"\u001b[0m\u001b[0;34m)\u001b[0m\u001b[0;34m\u001b[0m\u001b[0;34m\u001b[0m\u001b[0m\n\u001b[0m\u001b[1;32m   2156\u001b[0m \u001b[0;34m\u001b[0m\u001b[0m\n\u001b[1;32m   2157\u001b[0m         \u001b[0;32mtry\u001b[0m\u001b[0;34m:\u001b[0m\u001b[0;34m\u001b[0m\u001b[0;34m\u001b[0m\u001b[0m\n",
      "\u001b[0;31mFileNotFoundError\u001b[0m: [Errno 2] No such file or directory: './game-of-life/game-of-life.gif'"
     ]
    },
    {
     "data": {
      "text/plain": [
       "<Figure size 576x576 with 0 Axes>"
      ]
     },
     "metadata": {},
     "output_type": "display_data"
    },
    {
     "data": {
      "image/png": "[encoded data removed]",
      "text/plain": [
       "<Figure size 432x288 with 1 Axes>"
      ]
     },
     "metadata": {
      "needs_background": "light"
     },
     "output_type": "display_data"
    }
   ],
   "source": [
    "full, board = generate_new_board()\n",
    "\n",
    "board[1, 7] = 1\n",
    "board[2, 1:3] = 1\n",
    "board[3, 2] = 1\n",
    "board[3, 6:9] = 1\n",
    "\n",
    "model.initial_state = {\n",
    "    'full': full,\n",
    "    'board': board,\n",
    "}\n",
    "simulation.model = model\n",
    "\n",
    "result = simulation.run()\n",
    "df = pd.DataFrame(result)\n",
    "\n",
    "animate_board(df, file='game-of-life.gif')"
   ]
  },
  {
   "cell_type": "markdown",
   "metadata": {},
   "source": [
    "## Gosper Glider Gun"
   ]
  },
  {
   "cell_type": "code",
   "execution_count": null,
   "metadata": {},
   "outputs": [],
   "source": [
    "board_size = (50, 50)\n",
    "nd_slice = (slice(1, -1),) * len(board_size)\n",
    "\n",
    "def generate_new_board():\n",
    "    full_size = tuple(i+2 for i in board_size)\n",
    "    full = np.zeros(full_size, dtype=np.uint8)\n",
    "    board = full[nd_slice]\n",
    "    return full, board\n",
    "\n",
    "full, board = generate_new_board()\n",
    "\n",
    "ruleOfLifeAlive = np.zeros(8+1, np.uint8)\n",
    "ruleOfLifeAlive[[2,3]] = 1\n",
    "\n",
    "ruleOfLifeDead = np.zeros(8+1, np.uint8)\n",
    "ruleOfLifeDead[3] = 1\n",
    "\n",
    "params = {\n",
    "    'dims': [len(board.shape)],\n",
    "    'nd_slice': [nd_slice],\n",
    "    'ruleOfLifeAlive': [ruleOfLifeAlive],\n",
    "    'ruleOfLifeDead': [ruleOfLifeDead]\n",
    "}\n",
    "\n",
    "initial_state = {\n",
    "    'full': full,\n",
    "    'board': board,\n",
    "}\n",
    "\n",
    "state_update_blocks = [\n",
    "    {\n",
    "        'policies': {\n",
    "            'loop': loop\n",
    "        },\n",
    "        'variables': {\n",
    "            'full': state_update_full,\n",
    "            'board': state_update_board\n",
    "        }\n",
    "    }\n",
    "]"
   ]
  },
  {
   "cell_type": "code",
   "execution_count": null,
   "metadata": {},
   "outputs": [],
   "source": [
    "import io\n",
    "\n",
    "# Source: https://www.conwaylife.com/patterns/gosperglidergun.cells\n",
    "cells = '''\n",
    "........................O\n",
    "......................O.O\n",
    "............OO......OO............OO\n",
    "...........O...O....OO............OO\n",
    "OO........O.....O...OO\n",
    "OO........O...O.OO....O.O\n",
    "..........O.....O.......O\n",
    "...........O...O\n",
    "............OO\n",
    "'''\n",
    "\n",
    "string = io.StringIO(cells)\n",
    "\n",
    "for row, line in enumerate(string):\n",
    "    for column, char in enumerate(line):\n",
    "        if char == 'O':\n",
    "            board[row, column] = 1"
   ]
  },
  {
   "cell_type": "code",
   "execution_count": null,
   "metadata": {},
   "outputs": [],
   "source": [
    "TIMESTEPS = 100\n",
    "RUNS = 1\n",
    "\n",
    "model = Model(initial_state=initial_state, state_update_blocks=state_update_blocks, params=params)\n",
    "simulation = Simulation(model=model, timesteps=TIMESTEPS, runs=RUNS)\n",
    "\n",
    "result = simulation.run()\n",
    "df = pd.DataFrame(result)\n",
    "\n",
    "animate_board(df, file='gosper-glider-gun.gif')"
   ]
  }
 ],
 "metadata": {
  "kernelspec": {
   "display_name": "Python 3",
   "language": "python",
   "name": "python3"
  },
  "language_info": {
   "codemirror_mode": {
    "name": "ipython",
    "version": 3
   },
   "file_extension": ".py",
   "mimetype": "text/x-python",
   "name": "python",
   "nbconvert_exporter": "python",
   "pygments_lexer": "ipython3",
   "version": "3.8.5"
  }
 },
 "nbformat": 4,
 "nbformat_minor": 4
}
