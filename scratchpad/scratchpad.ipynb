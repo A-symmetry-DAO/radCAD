{
 "cells": [
  {
   "cell_type": "code",
   "execution_count": 2,
   "metadata": {},
   "outputs": [],
   "source": [
    "use std::collections::HashMap;\n",
    "use std::any::Any;"
   ]
  },
  {
   "cell_type": "code",
   "execution_count": 34,
   "metadata": {},
   "outputs": [],
   "source": [
    "let mut x: HashMap<String, Vec<String>> = HashMap::new();\n",
    "let mut len: HashMap<String, u32> = HashMap::new();"
   ]
  },
  {
   "cell_type": "code",
   "execution_count": 35,
   "metadata": {},
   "outputs": [],
   "source": [
    "x.insert(\"a\".to_string(), vec![\"a\".to_string(), \"b\".to_string(), \"c\".to_string()]);\n",
    "x.insert(\"b\".to_string(), vec![\"a\".to_string(), \"b\".to_string()]);\n",
    "x.insert(\"c\".to_string(), vec![\"a\".to_string()]);"
   ]
  },
  {
   "cell_type": "code",
   "execution_count": 36,
   "metadata": {},
   "outputs": [
    {
     "ename": "Error",
     "evalue": "no method named `sort` found for struct `std::collections::HashMap<std::string::String, std::vec::Vec<std::string::String>>` in the current scope",
     "output_type": "error",
     "traceback": [
      "x.sort()",
      "\u001b[91m  ^^^^\u001b[0m \u001b[94mmethod not found in `std::collections::HashMap<std::string::String, std::vec::Vec<std::string::String>>`\u001b[0m",
      "no method named `sort` found for struct `std::collections::HashMap<std::string::String, std::vec::Vec<std::string::String>>` in the current scope"
     ]
    }
   ],
   "source": [
    "x.sort()"
   ]
  },
  {
   "cell_type": "code",
   "execution_count": 33,
   "metadata": {},
   "outputs": [
    {
     "name": "stdout",
     "output_type": "stream",
     "text": [
      "c\n",
      "a\n",
      "b\n"
     ]
    },
    {
     "data": {
      "text/plain": [
       "()"
      ]
     },
     "execution_count": 33,
     "metadata": {},
     "output_type": "execute_result"
    }
   ],
   "source": [
    "for (k, v) in x {\n",
    "    println!(\"{}\", k)\n",
    "    \n",
    "}"
   ]
  },
  {
   "cell_type": "code",
   "execution_count": null,
   "metadata": {},
   "outputs": [],
   "source": []
  }
 ],
 "metadata": {
  "kernelspec": {
   "display_name": "Rust",
   "language": "rust",
   "name": "rust"
  },
  "language_info": {
   "codemirror_mode": "rust",
   "file_extension": ".rs",
   "mimetype": "text/rust",
   "name": "Rust",
   "pygment_lexer": "rust",
   "version": ""
  }
 },
 "nbformat": 4,
 "nbformat_minor": 4
}
