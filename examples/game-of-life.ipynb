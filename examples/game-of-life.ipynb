{
 "cells": [
  {
   "cell_type": "markdown",
   "metadata": {},
   "source": [
    "# Game of Life\n",
    "\n",
    "Based on [drsfenner.org \"Game of Life in Numpy\"](http://drsfenner.org/blog/2015/08/game-of-life-in-numpy-2/) and the notebook [http://drsfenner.org/public/notebooks/GameOfLife.ipynb](http://drsfenner.org/public/notebooks/GameOfLife.ipynb)."
   ]
  },
  {
   "cell_type": "code",
   "execution_count": 1,
   "metadata": {
    "jupyter": {
     "outputs_hidden": false
    }
   },
   "outputs": [],
   "source": [
    "import numpy as np\n",
    "import matplotlib.pyplot as plt\n",
    "from matplotlib.animation import FuncAnimation\n",
    "import time\n",
    "from IPython import display\n",
    "import pandas as pd\n",
    "\n",
    "%matplotlib inline\n",
    "\n",
    "# radCAD Modules\n",
    "from radcad import Model, Simulation, Experiment\n",
    "from radcad.engine import Engine, Backend\n",
    "\n",
    "# radCAD Model\n",
    "from game_of_life import loop, state_update_full, state_update_board"
   ]
  },
  {
   "cell_type": "code",
   "execution_count": 2,
   "metadata": {},
   "outputs": [],
   "source": [
    "from celluloid import Camera\n",
    "from IPython.display import HTML\n",
    "\n",
    "def animate_board(result):\n",
    "    fig = plt.figure(figsize=(8, 8))\n",
    "    fig.set_tight_layout(True)\n",
    "\n",
    "    fig = plt.figure()\n",
    "    camera = Camera(fig)\n",
    "\n",
    "    def update(timestep):\n",
    "        state = result.iloc[timestep]\n",
    "        plt.ioff()\n",
    "        plt.imshow(state['board'], cmap=\"binary\", interpolation=\"none\")\n",
    "        plt.axis('off')\n",
    "        plt.ioff()\n",
    "\n",
    "    for timestep in range(len(result)):\n",
    "        update(timestep)\n",
    "        camera.snap()\n",
    "\n",
    "    plt.ioff()\n",
    "    animation = camera.animate()\n",
    "    plt.ioff()\n",
    "    animation.save('game-of-life.gif', writer='pillow')\n",
    "    plt.rcParams['animation.ffmpeg_path'] = '/usr/local/bin/ffmpeg'\n",
    "    return HTML(animation.to_html5_video())"
   ]
  },
  {
   "cell_type": "code",
   "execution_count": 3,
   "metadata": {},
   "outputs": [],
   "source": [
    "board_size = (11, 11)\n",
    "nd_slice = (slice(1, -1),) * len(board_size)\n",
    "\n",
    "def generate_new_board():\n",
    "    full_size = tuple(i+2 for i in board_size)\n",
    "    full = np.zeros(full_size, dtype=np.uint8)\n",
    "    board = full[nd_slice]\n",
    "    return full, board\n",
    "\n",
    "full, board = generate_new_board()\n",
    "\n",
    "ruleOfLifeAlive = np.zeros(8+1, np.uint8)\n",
    "ruleOfLifeAlive[[2,3]] = 1\n",
    "\n",
    "ruleOfLifeDead = np.zeros(8+1, np.uint8)\n",
    "ruleOfLifeDead[3] = 1\n",
    "\n",
    "params = {\n",
    "    'dims': [len(board.shape)],\n",
    "    'nd_slice': [nd_slice],\n",
    "    'ruleOfLifeAlive': [ruleOfLifeAlive],\n",
    "    'ruleOfLifeDead': [ruleOfLifeDead]\n",
    "}\n",
    "\n",
    "initial_state = {\n",
    "    'full': full,\n",
    "    'board': board,\n",
    "}\n",
    "\n",
    "state_update_blocks = [\n",
    "    {\n",
    "        'policies': {\n",
    "            'loop': loop\n",
    "        },\n",
    "        'variables': {\n",
    "            'full': state_update_full,\n",
    "            'board': state_update_board\n",
    "        }\n",
    "    }\n",
    "]"
   ]
  },
  {
   "cell_type": "code",
   "execution_count": 4,
   "metadata": {},
   "outputs": [],
   "source": [
    "TIMESTEPS = 10\n",
    "RUNS = 1\n",
    "\n",
    "model = Model(initial_state=initial_state, state_update_blocks=state_update_blocks, params=params)\n",
    "simulation = Simulation(model=model, timesteps=TIMESTEPS, runs=RUNS)"
   ]
  },
  {
   "cell_type": "code",
   "execution_count": 5,
   "metadata": {},
   "outputs": [
    {
     "data": {
      "text/html": [
       "<video width=\"432\" height=\"288\" controls autoplay loop>\n",
       "  <source type=\"video/mp4\" src=\"data:video/mp4;base64,AAAAIGZ0eXBNNFYgAAACAE00ViBpc29taXNvMmF2YzEAAAAIZnJlZQAABMFtZGF0AAACrQYF//+p\n",
       "3EXpvebZSLeWLNgg2SPu73gyNjQgLSBjb3JlIDE2MSByMzAyNyA0MTIxMjc3IC0gSC4yNjQvTVBF\n",
       "Ry00IEFWQyBjb2RlYyAtIENvcHlsZWZ0IDIwMDMtMjAyMCAtIGh0dHA6Ly93d3cudmlkZW9sYW4u\n",
       "b3JnL3gyNjQuaHRtbCAtIG9wdGlvbnM6IGNhYmFjPTEgcmVmPTMgZGVibG9jaz0xOjA6MCBhbmFs\n",
       "eXNlPTB4MzoweDExMyBtZT1oZXggc3VibWU9NyBwc3k9MSBwc3lfcmQ9MS4wMDowLjAwIG1peGVk\n",
       "X3JlZj0xIG1lX3JhbmdlPTE2IGNocm9tYV9tZT0xIHRyZWxsaXM9MSA4eDhkY3Q9MSBjcW09MCBk\n",
       "ZWFkem9uZT0yMSwxMSBmYXN0X3Bza2lwPTEgY2hyb21hX3FwX29mZnNldD0tMiB0aHJlYWRzPTkg\n",
       "bG9va2FoZWFkX3RocmVhZHM9MSBzbGljZWRfdGhyZWFkcz0wIG5yPTAgZGVjaW1hdGU9MSBpbnRl\n",
       "cmxhY2VkPTAgYmx1cmF5X2NvbXBhdD0wIGNvbnN0cmFpbmVkX2ludHJhPTAgYmZyYW1lcz0zIGJf\n",
       "cHlyYW1pZD0yIGJfYWRhcHQ9MSBiX2JpYXM9MCBkaXJlY3Q9MSB3ZWlnaHRiPTEgb3Blbl9nb3A9\n",
       "MCB3ZWlnaHRwPTIga2V5aW50PTI1MCBrZXlpbnRfbWluPTUgc2NlbmVjdXQ9NDAgaW50cmFfcmVm\n",
       "cmVzaD0wIHJjX2xvb2thaGVhZD00MCByYz1jcmYgbWJ0cmVlPTEgY3JmPTIzLjAgcWNvbXA9MC42\n",
       "MCBxcG1pbj0wIHFwbWF4PTY5IHFwc3RlcD00IGlwX3JhdGlvPTEuNDAgYXE9MToxLjAwAIAAAACm\n",
       "ZYiEABP//vexj4FNyAANlzqKeh/hFbH0kFF6sdmgZOoAAAMAAImBjhZAtblacVAAAN+AAZckyqPu\n",
       "Dce/P4qv/iAIM+fpQWR2ugkTP3rz/J84VVDp5NUzeMY3538PLjnjzj2Kish2vfYSRvG7cPW9i1W5\n",
       "+HtCyocfzV2Y6ylKm/DUiKWwVGGx+qeSfA+HVa1jHB3C5Hr4/US0GX4HsAAAAwAAAwBKwQAAAEZB\n",
       "miRsQS/+tSqAAFm4n3kZ2t+AARCYF//n/AeNKTJWkYfjFnVXNWSFSplR6pVBvybWF+5vpyD4LkGJ\n",
       "GG5kZucGk52cpYGwAAAAKUGeQniCHwAAbmh0zhx/9CW5VvGoAL6AALIxf+W71XkTTCyHae3hv4Lv\n",
       "AAAAFQGeYXRD/wAA8v5mr/2C2T6KXLFugAAAABYBnmNqQ/8AAPMF84ycYgZ0Z0qpU8qZAAAAHEGa\n",
       "ZkmoQWiZTBTwS//+tSqAACt+HDrYY7IE7OEAAAAdAZ6FakP/AADwrn/v57aGkhYs52FjSY1wRDYt\n",
       "J/EAAAAUQZqISeEKUmUwUsEf/rUqgAAAHrEAAAAdAZ6nakP/AADwrn/v57aGkhYs52FjSY1wRDYt\n",
       "J/AAAAAVQZqqSeEOiZTBRMP//qmWAAADAPCAAAAAHQGeyWpD/wAA8K5/7+e2hpIWLOdhY0mNcEQ2\n",
       "LSfxAAADtm1vb3YAAABsbXZoZAAAAAAAAAAAAAAAAAAAA+gAAAiYAAEAAAEAAAAAAAAAAAAAAAAB\n",
       "AAAAAAAAAAAAAAAAAAAAAQAAAAAAAAAAAAAAAAAAQAAAAAAAAAAAAAAAAAAAAAAAAAAAAAAAAAAA\n",
       "AAAAAAIAAALgdHJhawAAAFx0a2hkAAAAAwAAAAAAAAAAAAAAAQAAAAAAAAiYAAAAAAAAAAAAAAAA\n",
       "AAAAAAABAAAAAAAAAAAAAAAAAAAAAQAAAAAAAAAAAAAAAAAAQAAAAAGwAAABIAAAAAAAJGVkdHMA\n",
       "AAAcZWxzdAAAAAAAAAABAAAImAAAEAAAAQAAAAACWG1kaWEAAAAgbWRoZAAAAAAAAAAAAAAAAAAA\n",
       "KAAAAFgAVcQAAAAAAC1oZGxyAAAAAAAAAAB2aWRlAAAAAAAAAAAAAAAAVmlkZW9IYW5kbGVyAAAA\n",
       "AgNtaW5mAAAAFHZtaGQAAAABAAAAAAAAAAAAAAAkZGluZgAAABxkcmVmAAAAAAAAAAEAAAAMdXJs\n",
       "IAAAAAEAAAHDc3RibAAAALdzdHNkAAAAAAAAAAEAAACnYXZjMQAAAAAAAAABAAAAAAAAAAAAAAAA\n",
       "AAAAAAGwASAASAAAAEgAAAAAAAAAAQAAAAAAAAAAAAAAAAAAAAAAAAAAAAAAAAAAAAAAAAAAABj/\n",
       "/wAAADVhdmNDAWQAFf/hABhnZAAVrNlBsJaEAAADAAQAAAMAKDxYtlgBAAZo6+PLIsD9+PgAAAAA\n",
       "HHV1aWRraEDyXyRPxbo5pRvPAyPzAAAAAAAAABhzdHRzAAAAAAAAAAEAAAALAAAIAAAAABRzdHNz\n",
       "AAAAAAAAAAEAAAABAAAAaGN0dHMAAAAAAAAACwAAAAEAABAAAAAAAQAAKAAAAAABAAAQAAAAAAEA\n",
       "AAAAAAAAAQAACAAAAAABAAAYAAAAAAEAAAgAAAAAAQAAGAAAAAABAAAIAAAAAAEAABgAAAAAAQAA\n",
       "CAAAAAAcc3RzYwAAAAAAAAABAAAAAQAAAAsAAAABAAAAQHN0c3oAAAAAAAAAAAAAAAsAAANbAAAA\n",
       "SgAAAC0AAAAZAAAAGgAAACAAAAAhAAAAGAAAACEAAAAZAAAAIQAAABRzdGNvAAAAAAAAAAEAAAAw\n",
       "AAAAYnVkdGEAAABabWV0YQAAAAAAAAAhaGRscgAAAAAAAAAAbWRpcmFwcGwAAAAAAAAAAAAAAAAt\n",
       "aWxzdAAAACWpdG9vAAAAHWRhdGEAAAABAAAAAExhdmY1OC40NS4xMDA=\n",
       "\">\n",
       "  Your browser does not support the video tag.\n",
       "</video>"
      ],
      "text/plain": [
       "<IPython.core.display.HTML object>"
      ]
     },
     "execution_count": 5,
     "metadata": {},
     "output_type": "execute_result"
    },
    {
     "data": {
      "text/plain": [
       "<Figure size 576x576 with 0 Axes>"
      ]
     },
     "metadata": {},
     "output_type": "display_data"
    },
    {
     "data": {
      "image/png": "[encoded data removed]",
      "text/plain": [
       "<Figure size 432x288 with 1 Axes>"
      ]
     },
     "metadata": {
      "needs_background": "light"
     },
     "output_type": "display_data"
    }
   ],
   "source": [
    "full, board = generate_new_board()\n",
    "\n",
    "board[4:6, 4:6] = 1\n",
    "board[6:8, 6:8] = 1\n",
    "\n",
    "model.initial_state = {\n",
    "    'full': full,\n",
    "    'board': board,\n",
    "}\n",
    "simulation.model = model\n",
    "\n",
    "result = simulation.run()\n",
    "df = pd.DataFrame(result)\n",
    "\n",
    "animate_board(df)"
   ]
  },
  {
   "cell_type": "code",
   "execution_count": 6,
   "metadata": {},
   "outputs": [
    {
     "data": {
      "text/html": [
       "<video width=\"432\" height=\"288\" controls autoplay loop>\n",
       "  <source type=\"video/mp4\" src=\"data:video/mp4;base64,AAAAIGZ0eXBNNFYgAAACAE00ViBpc29taXNvMmF2YzEAAAAIZnJlZQAACNttZGF0AAACrQYF//+p\n",
       "3EXpvebZSLeWLNgg2SPu73gyNjQgLSBjb3JlIDE2MSByMzAyNyA0MTIxMjc3IC0gSC4yNjQvTVBF\n",
       "Ry00IEFWQyBjb2RlYyAtIENvcHlsZWZ0IDIwMDMtMjAyMCAtIGh0dHA6Ly93d3cudmlkZW9sYW4u\n",
       "b3JnL3gyNjQuaHRtbCAtIG9wdGlvbnM6IGNhYmFjPTEgcmVmPTMgZGVibG9jaz0xOjA6MCBhbmFs\n",
       "eXNlPTB4MzoweDExMyBtZT1oZXggc3VibWU9NyBwc3k9MSBwc3lfcmQ9MS4wMDowLjAwIG1peGVk\n",
       "X3JlZj0xIG1lX3JhbmdlPTE2IGNocm9tYV9tZT0xIHRyZWxsaXM9MSA4eDhkY3Q9MSBjcW09MCBk\n",
       "ZWFkem9uZT0yMSwxMSBmYXN0X3Bza2lwPTEgY2hyb21hX3FwX29mZnNldD0tMiB0aHJlYWRzPTkg\n",
       "bG9va2FoZWFkX3RocmVhZHM9MSBzbGljZWRfdGhyZWFkcz0wIG5yPTAgZGVjaW1hdGU9MSBpbnRl\n",
       "cmxhY2VkPTAgYmx1cmF5X2NvbXBhdD0wIGNvbnN0cmFpbmVkX2ludHJhPTAgYmZyYW1lcz0zIGJf\n",
       "cHlyYW1pZD0yIGJfYWRhcHQ9MSBiX2JpYXM9MCBkaXJlY3Q9MSB3ZWlnaHRiPTEgb3Blbl9nb3A9\n",
       "MCB3ZWlnaHRwPTIga2V5aW50PTI1MCBrZXlpbnRfbWluPTUgc2NlbmVjdXQ9NDAgaW50cmFfcmVm\n",
       "cmVzaD0wIHJjX2xvb2thaGVhZD00MCByYz1jcmYgbWJ0cmVlPTEgY3JmPTIzLjAgcWNvbXA9MC42\n",
       "MCBxcG1pbj0wIHFwbWF4PTY5IHFwc3RlcD00IGlwX3JhdGlvPTEuNDAgYXE9MToxLjAwAIAAAAC8\n",
       "ZYiEABL//vet34FNwEDta7pXOLTLq5Q0PVH2lKZ4tkgAAAMAA44es10aknua0GgABbwACmjRupdD\n",
       "gqNflnBUSm/5AE+Y58/tsSGyrq5J1VZgubrfqn5qWsPcj5xyojNwS1PZny/+44HBk8h5IINkXBSq\n",
       "XYS8c4S3BFhZtrU0j/yWgVcdptZEQROrrS0uRMW4S3S/KPGAAB1E98FPQUMt2vqWczGol5dPvr02\n",
       "NMLYgAAAAwAAAwAAAwAAIaEAAAC9QZoibEEv/rUqgALKaTeILL4vH0IvH/0SU1/4udHjmh8I6S+d\n",
       "EpZRCdHzwjYU1YvDIJPfZ02/9fwb7CvmuSYH29knTnOQL/DslNT4sf4BtDCtgxTZzmLTdxzcjq2N\n",
       "/hkUACWKOK41DsxGHMddpe+1B94bDs2ElwmZUxepfRl4dLNJOE+QBLLvg9FkDHtATBy2x0jjhYrJ\n",
       "Z2iJPZfRcKu0EMtxqEYpsgFeLOdeGOozqpqe5hJ2nOkT/aMuXiUgAAAAngGeQXkP/wAHlwhQgY/8\n",
       "xG+0u66IAL1Dgf7/Dxsni0nD3Azpfm8y35/i5WTwzFgADIfevaAad2fUf4poWeM9Rk/10JOdKIGx\n",
       "jtXLf9KmaIfR/wBtXWRjdY8oF3ba4sJu7Qk0mGQ+zQBFdVYS+qTYykIL1Cxd1whRYUJdMZ7dutyB\n",
       "o5q92q2apVO9sFg9qXFG1V9eAEjc1Yt4EMv8qeyXAAABBUGaRDwhkymEEf/+tSqABZTZN09hIo9u\n",
       "yUFuecnjAT6NJgv7Or4n8Qy2RFkZXsfwJegAXR9E/4PC3r+PyPGj5OvfkuuWHZj6Yn1JqHUVgqIf\n",
       "7RfSBrQTieUNrEH7dbQO+rHYD6x25JFh2ocNys9tRpbxpCPDCsa/011U9jtGEmQ+lqbombV5w4X7\n",
       "9UKWk5yeuHQnGMNP9JVJfYS14wXHwdxbzfcLjjk/YlEhmPAdj1ZsF3oV3qVeS6V4auRvtyVz+qux\n",
       "CJeG0oXywy1Zue3oGYmeNui/anPQYYqdsfNzTbEeOEKf58otILXOPKI/DY6aydtBBqJ4VwhizVku\n",
       "GaWhGvciWd4utgAAAEABnmNqQ/8ADy9jIsaCuAL3jO3CyMrYK2MllZBE1a9QOaGPkSmQAUEybN8X\n",
       "ma05SKXSd8l1X4YoNAoy2CGrZ0CBAAAAoEGaZUnhDyZTAgj//rUqgAW/iP9g8LjgAC3Xff9hgRJh\n",
       "Sivg97mRBSAh6oE5h0uVO6UxiwWroC+M4XsfwEx13/TaElEew3zMx1Moam7L535w3gq5rMV57/jA\n",
       "JQ36Zxksa8OkrRExTOWgKuxfNhqgX7YJMaqXPXAgFBl0W4bvjmc0DDEp4H19JhDxa7g8YLPwjIx1\n",
       "RilnJpYGf5e4Tfpw3rEAAACzQZqGSeEPJlMCCP/+tSqACzcR8yIv/OQAF2foV/2GBEmFKA2fWN95\n",
       "g5hb8yewyuyv4XTB5vzOeTr5C+QXrek03WBEdreiN7cTDdm/9w4NHnFz3qqIfj5YizQoQzpSgecF\n",
       "vFtl01PQKthTi8wDAjU3YMO+uC2WtF04hAgxDojPFJe1ppmmajtakT9ANQV9afq57/jqKOP1yDJn\n",
       "1xNMQUNgurGpCNsyPuZDJtDmi68GWoQw0PEAAABgQZqnSeEPJlMCCP/+tSqACzfQYZe98NFvD4g8\n",
       "Gr6UD5a0nhtpQEgAuraX8R2RH+i3eErwb5CJulMg6tRqznkVl8vcwoQ5chSFc14BPnAjXXPmAIcQ\n",
       "ebjf7lfIyuA5D+h5AAAAVEGayEnhDyZTAgj//rUqgAsnUYeso/x7GutuXr3s8CgA2MD0IPMuzRpj\n",
       "8yOpWwwIuZVoDUbRBRC7RpXoApgHSIEjdpOBhZ2t1OdBvkqQT3vaiL08pgAAAEtBmulJ4Q8mUwII\n",
       "f/6qVQAWb4vXqw0uywpkaamPc6hPRc3kG+l9/v++FpLPkZr0kFI3JQlGoJc/n4qO54jLia+A0wDS\n",
       "KwaBZAaMbQ8AAABIQZsKSeEPJlMCH//+qZYAVwJgi9qPdE/fBoz88jDedz0ElLdHgvEHiB2TLW1U\n",
       "4grQAA1QCFAcccS+snW9/MFKhQ2yy30ILzDxAAADjm1vb3YAAABsbXZoZAAAAAAAAAAAAAAAAAAA\n",
       "A+gAAAiYAAEAAAEAAAAAAAAAAAAAAAABAAAAAAAAAAAAAAAAAAAAAQAAAAAAAAAAAAAAAAAAQAAA\n",
       "AAAAAAAAAAAAAAAAAAAAAAAAAAAAAAAAAAAAAAIAAAK4dHJhawAAAFx0a2hkAAAAAwAAAAAAAAAA\n",
       "AAAAAQAAAAAAAAiYAAAAAAAAAAAAAAAAAAAAAAABAAAAAAAAAAAAAAAAAAAAAQAAAAAAAAAAAAAA\n",
       "AAAAQAAAAAGwAAABIAAAAAAAJGVkdHMAAAAcZWxzdAAAAAAAAAABAAAImAAAEAAAAQAAAAACMG1k\n",
       "aWEAAAAgbWRoZAAAAAAAAAAAAAAAAAAAKAAAAFgAVcQAAAAAAC1oZGxyAAAAAAAAAAB2aWRlAAAA\n",
       "AAAAAAAAAAAAVmlkZW9IYW5kbGVyAAAAAdttaW5mAAAAFHZtaGQAAAABAAAAAAAAAAAAAAAkZGlu\n",
       "ZgAAABxkcmVmAAAAAAAAAAEAAAAMdXJsIAAAAAEAAAGbc3RibAAAALdzdHNkAAAAAAAAAAEAAACn\n",
       "YXZjMQAAAAAAAAABAAAAAAAAAAAAAAAAAAAAAAGwASAASAAAAEgAAAAAAAAAAQAAAAAAAAAAAAAA\n",
       "AAAAAAAAAAAAAAAAAAAAAAAAAAAAABj//wAAADVhdmNDAWQAFf/hABhnZAAVrNlBsJaEAAADAAQA\n",
       "AAMAKDxYtlgBAAZo6+PLIsD9+PgAAAAAHHV1aWRraEDyXyRPxbo5pRvPAyPzAAAAAAAAABhzdHRz\n",
       "AAAAAAAAAAEAAAALAAAIAAAAABRzdHNzAAAAAAAAAAEAAAABAAAAQGN0dHMAAAAAAAAABgAAAAEA\n",
       "ABAAAAAAAQAAGAAAAAABAAAIAAAAAAEAABgAAAAAAQAACAAAAAAGAAAQAAAAABxzdHNjAAAAAAAA\n",
       "AAEAAAABAAAACwAAAAEAAABAc3RzegAAAAAAAAAAAAAACwAAA3EAAADBAAAAogAAAQkAAABEAAAA\n",
       "pAAAALcAAABkAAAAWAAAAE8AAABMAAAAFHN0Y28AAAAAAAAAAQAAADAAAABidWR0YQAAAFptZXRh\n",
       "AAAAAAAAACFoZGxyAAAAAAAAAABtZGlyYXBwbAAAAAAAAAAAAAAAAC1pbHN0AAAAJal0b28AAAAd\n",
       "ZGF0YQAAAAEAAAAATGF2ZjU4LjQ1LjEwMA==\n",
       "\">\n",
       "  Your browser does not support the video tag.\n",
       "</video>"
      ],
      "text/plain": [
       "<IPython.core.display.HTML object>"
      ]
     },
     "execution_count": 6,
     "metadata": {},
     "output_type": "execute_result"
    },
    {
     "data": {
      "text/plain": [
       "<Figure size 576x576 with 0 Axes>"
      ]
     },
     "metadata": {},
     "output_type": "display_data"
    },
    {
     "data": {
      "image/png": "[encoded data removed]",
      "text/plain": [
       "<Figure size 432x288 with 1 Axes>"
      ]
     },
     "metadata": {
      "needs_background": "light"
     },
     "output_type": "display_data"
    }
   ],
   "source": [
    "full, board = generate_new_board()\n",
    "\n",
    "board[4, 5] = 1\n",
    "board[5, 4:7] = 1\n",
    "board[6, 5] = 1\n",
    "\n",
    "model.initial_state = {\n",
    "    'full': full,\n",
    "    'board': board,\n",
    "}\n",
    "simulation.model = model\n",
    "\n",
    "result = simulation.run()\n",
    "df = pd.DataFrame(result)\n",
    "\n",
    "animate_board(df)"
   ]
  },
  {
   "cell_type": "code",
   "execution_count": 7,
   "metadata": {},
   "outputs": [
    {
     "data": {
      "text/html": [
       "<video width=\"432\" height=\"288\" controls autoplay loop>\n",
       "  <source type=\"video/mp4\" src=\"data:video/mp4;base64,AAAAIGZ0eXBNNFYgAAACAE00ViBpc29taXNvMmF2YzEAAAAIZnJlZQAACM1tZGF0AAACrQYF//+p\n",
       "3EXpvebZSLeWLNgg2SPu73gyNjQgLSBjb3JlIDE2MSByMzAyNyA0MTIxMjc3IC0gSC4yNjQvTVBF\n",
       "Ry00IEFWQyBjb2RlYyAtIENvcHlsZWZ0IDIwMDMtMjAyMCAtIGh0dHA6Ly93d3cudmlkZW9sYW4u\n",
       "b3JnL3gyNjQuaHRtbCAtIG9wdGlvbnM6IGNhYmFjPTEgcmVmPTMgZGVibG9jaz0xOjA6MCBhbmFs\n",
       "eXNlPTB4MzoweDExMyBtZT1oZXggc3VibWU9NyBwc3k9MSBwc3lfcmQ9MS4wMDowLjAwIG1peGVk\n",
       "X3JlZj0xIG1lX3JhbmdlPTE2IGNocm9tYV9tZT0xIHRyZWxsaXM9MSA4eDhkY3Q9MSBjcW09MCBk\n",
       "ZWFkem9uZT0yMSwxMSBmYXN0X3Bza2lwPTEgY2hyb21hX3FwX29mZnNldD0tMiB0aHJlYWRzPTkg\n",
       "bG9va2FoZWFkX3RocmVhZHM9MSBzbGljZWRfdGhyZWFkcz0wIG5yPTAgZGVjaW1hdGU9MSBpbnRl\n",
       "cmxhY2VkPTAgYmx1cmF5X2NvbXBhdD0wIGNvbnN0cmFpbmVkX2ludHJhPTAgYmZyYW1lcz0zIGJf\n",
       "cHlyYW1pZD0yIGJfYWRhcHQ9MSBiX2JpYXM9MCBkaXJlY3Q9MSB3ZWlnaHRiPTEgb3Blbl9nb3A9\n",
       "MCB3ZWlnaHRwPTIga2V5aW50PTI1MCBrZXlpbnRfbWluPTUgc2NlbmVjdXQ9NDAgaW50cmFfcmVm\n",
       "cmVzaD0wIHJjX2xvb2thaGVhZD00MCByYz1jcmYgbWJ0cmVlPTEgY3JmPTIzLjAgcWNvbXA9MC42\n",
       "MCBxcG1pbj0wIHFwbWF4PTY5IHFwc3RlcD00IGlwX3JhdGlvPTEuNDAgYXE9MToxLjAwAIAAAAFA\n",
       "ZYiEABP//vexj4FNyAANlzqKeh/hFbH0kFF6sdmgZOoAAAMAAImBjhZAtblacVAAAN+AQduQl/aP\n",
       "8RR7+AA77fL/ShQRpX9EYNn9UGS38A7EXoVI2CN6nUeFD2t/v/z6Vd5jgYaALxWa8hhPQ6HL2dqv\n",
       "+V71wvBzVOJ0Tsew9/ZaF4DJVRwO6oHQDeFeWu3b5kQiOrdMNBRmVvYN8HIocweoZzl5oRVzpep3\n",
       "/SMvPkLtnB+7Ky5TAFLN2tmWtYS8Yzpetkdjf7zUGUW1ymdwyxvFITwNeP5INu77Yjf4JplymQOe\n",
       "okHw0WmJLhS024yh+eH8kVc9PXDaSNi4ulvQZ4bbnwJEgcUqzCwNctPunF7nwZ36sk/7LAQZLP/Z\n",
       "uMkAnQa+wzxWsAoiC+AAAAMAAAMAAAMAAAMAAAMAAAMAHpEAAACLQZojbEEv/rUqgAV3if+M9+jQ\n",
       "Ae4cP/p6mVVuFmpqRsk6vYgowE8xEBpAJfs0TMSS81H1EkAznyBbN3pTl9dGQ6xnxzvyEJgr/bvM\n",
       "IiEIXmNq6lb92N3VyEBVmq3tfygSxlvu5vZl9LZIuMQ9hWjBc89jRYDngGshX1cAGvZ3LlUiGi8f\n",
       "V2P/yQ5iSwAAADxBnkF4gh8ADRBOyVpEe4Xd/BlVgAB1oU//v8CTzin+k/9+qHDniYkSGUm+Ucao\n",
       "FbVPqOMaS6GHgfAz4sEAAAA9AZ5iakP/ABz+xkWNBXAGXwsE5RSdVkt8ob7XHJ76qwQjHntCStGC\n",
       "vJ2JxloAE7aGB/7/A6Eh3Qt9ObCqYAAAAGVBmmRJqEFomUwIJf/+tSqABXfokNt7Pj+kprA77bTL\n",
       "r48TmK9xQrLos9NfBeuImAAxv0N/+/gX2PeJaMGdHHcgEhH7QWJMxIiQ/fPSxIE9eVAOOeGEmWQk\n",
       "91xsI47Xh1i0Nb+WVQAAAIpBmodJ4QpSZTAgl//+tSqABXahr1UqA4AKf6J/8/gTC+VjH28dzBpf\n",
       "OL0VczofPjApZwWVZoAAWxbsUHrM5u2bPVpucBwULtTi8XmUjYrr2uPymvIlVwW5omtAbVdzKW+F\n",
       "1UxlaHLNGOSymlQN75C9lN4uOjl8C9XjWOnw41kDX+2tCok26kWXw+8AAAAzQZ6lRTRMEP8ADS5Z\n",
       "l8KEDTLme3RGH7bGd7kiSBNQBQ5YKy6nJPdmDtVRc9Lo8BH51YPhAAAAjwGexmpD/wAc/CFCBt9A\n",
       "A6zLv/MYEXmUifvMdNhImtItdagdKmhptEU/u+oSVnnEO9r2U8cc1qT+QJT0s+4c2BwkMJPoOsTF\n",
       "/CQrWCh8j9vEyZnMs/UgDEj5cj2p4/BYpKukYJLQW9AdpioUZaMTsTOzaBeLZX8xnaz59G8ImIi2\n",
       "HFbNHQSrEVva00kOAktpAAAA30GayUmoQWiZTBTwQ//+qlUAKsohdftXN52UR6ZWtO5rQ7NAqejj\n",
       "Wi2teti1uE8cv9gAU+je7d8DxB/P4EYcPQsVSAoFAYOMeQfCab50fPgdfTeGrC34VKhEOwn2PxeS\n",
       "JRBXN+GF5qfWEo4E7Y0xxPRRD05g2LumeyYxnsP5+a8arMaClM4cJBI3AGv9lH7MrqzrtAnkHvni\n",
       "HgegeA4DY5Ztx/lMRI8l0d3B5xGPqE/akRLCKJ/UOnI71317SNfCsh8X3Q3UVlu3SqdzGfNzLcQW\n",
       "15caUB7KF8rhmE8pJ2AAAABHAZ7oakP/ADm9jIsaC9diyszIol3aUjRWIVLHod8qy/0fuQcuabRX\n",
       "1d8/p1IhedCzGsmbwCbW5XFQsLt+afcnBhBPXagmm2gAAADNQZrqSeEKUmUwIf/+qZYAqyaE9bHb\n",
       "be2me9TTxZtrsLs6Gvz/M4nvbhwAmmqdorvMGbqG5Ml9gctEgSSQLl9g/0CsI8ZPNrKchZh3Mvks\n",
       "h3er4UqwoZ/3BQrYztR4BGdjUVZADZhkA/RpjgtVQGrt9SQBRsBp+J/DtMFK4Wivz19gQNiY+LCi\n",
       "EZRX1g5ex9dB72dhKO1oJFykwZ+K6dET2aBiqKUv13HPWMenGBtORs1fnuF+eRunlBgsb5D8CBV1\n",
       "wqAbX1HqDt1Q84sPjwAAA6Ztb292AAAAbG12aGQAAAAAAAAAAAAAAAAAAAPoAAAImAABAAABAAAA\n",
       "AAAAAAAAAAAAAQAAAAAAAAAAAAAAAAAAAAEAAAAAAAAAAAAAAAAAAEAAAAAAAAAAAAAAAAAAAAAA\n",
       "AAAAAAAAAAAAAAAAAAACAAAC0HRyYWsAAABcdGtoZAAAAAMAAAAAAAAAAAAAAAEAAAAAAAAImAAA\n",
       "AAAAAAAAAAAAAAAAAAAAAQAAAAAAAAAAAAAAAAAAAAEAAAAAAAAAAAAAAAAAAEAAAAABsAAAASAA\n",
       "AAAAACRlZHRzAAAAHGVsc3QAAAAAAAAAAQAACJgAABAAAAEAAAAAAkhtZGlhAAAAIG1kaGQAAAAA\n",
       "AAAAAAAAAAAAACgAAABYAFXEAAAAAAAtaGRscgAAAAAAAAAAdmlkZQAAAAAAAAAAAAAAAFZpZGVv\n",
       "SGFuZGxlcgAAAAHzbWluZgAAABR2bWhkAAAAAQAAAAAAAAAAAAAAJGRpbmYAAAAcZHJlZgAAAAAA\n",
       "AAABAAAADHVybCAAAAABAAABs3N0YmwAAAC3c3RzZAAAAAAAAAABAAAAp2F2YzEAAAAAAAAAAQAA\n",
       "AAAAAAAAAAAAAAAAAAABsAEgAEgAAABIAAAAAAAAAAEAAAAAAAAAAAAAAAAAAAAAAAAAAAAAAAAA\n",
       "AAAAAAAAAAAY//8AAAA1YXZjQwFkABX/4QAYZ2QAFazZQbCWhAAAAwAEAAADACg8WLZYAQAGaOvj\n",
       "yyLA/fj4AAAAABx1dWlka2hA8l8kT8W6OaUbzwMj8wAAAAAAAAAYc3R0cwAAAAAAAAABAAAACwAA\n",
       "CAAAAAAUc3RzcwAAAAAAAAABAAAAAQAAAFhjdHRzAAAAAAAAAAkAAAABAAAQAAAAAAEAACAAAAAA\n",
       "AgAACAAAAAABAAAQAAAAAAEAACAAAAAAAgAACAAAAAABAAAYAAAAAAEAAAgAAAAAAQAAEAAAAAAc\n",
       "c3RzYwAAAAAAAAABAAAAAQAAAAsAAAABAAAAQHN0c3oAAAAAAAAAAAAAAAsAAAP1AAAAjwAAAEAA\n",
       "AABBAAAAaQAAAI4AAAA3AAAAkwAAAOMAAABLAAAA0QAAABRzdGNvAAAAAAAAAAEAAAAwAAAAYnVk\n",
       "dGEAAABabWV0YQAAAAAAAAAhaGRscgAAAAAAAAAAbWRpcmFwcGwAAAAAAAAAAAAAAAAtaWxzdAAA\n",
       "ACWpdG9vAAAAHWRhdGEAAAABAAAAAExhdmY1OC40NS4xMDA=\n",
       "\">\n",
       "  Your browser does not support the video tag.\n",
       "</video>"
      ],
      "text/plain": [
       "<IPython.core.display.HTML object>"
      ]
     },
     "execution_count": 7,
     "metadata": {},
     "output_type": "execute_result"
    },
    {
     "data": {
      "text/plain": [
       "<Figure size 576x576 with 0 Axes>"
      ]
     },
     "metadata": {},
     "output_type": "display_data"
    },
    {
     "data": {
      "image/png": "[encoded data removed]",
      "text/plain": [
       "<Figure size 432x288 with 1 Axes>"
      ]
     },
     "metadata": {
      "needs_background": "light"
     },
     "output_type": "display_data"
    }
   ],
   "source": [
    "full, board = generate_new_board()\n",
    "\n",
    "board[1, 7] = 1\n",
    "board[2, 1:3] = 1\n",
    "board[3, 2] = 1\n",
    "board[3, 6:9] = 1\n",
    "\n",
    "model.initial_state = {\n",
    "    'full': full,\n",
    "    'board': board,\n",
    "}\n",
    "simulation.model = model\n",
    "\n",
    "result = simulation.run()\n",
    "df = pd.DataFrame(result)\n",
    "\n",
    "animate_board(df)"
   ]
  }
 ],
 "metadata": {
  "kernelspec": {
   "display_name": "python3-radcad",
   "language": "python",
   "name": "python3-radcad"
  },
  "language_info": {
   "codemirror_mode": {
    "name": "ipython",
    "version": 3
   },
   "file_extension": ".py",
   "mimetype": "text/x-python",
   "name": "python",
   "nbconvert_exporter": "python",
   "pygments_lexer": "ipython3",
   "version": "3.8.6"
  }
 },
 "nbformat": 4,
 "nbformat_minor": 4
}
