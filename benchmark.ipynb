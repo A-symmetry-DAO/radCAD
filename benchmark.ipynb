{
 "cells": [
  {
   "cell_type": "code",
   "execution_count": null,
   "metadata": {},
   "outputs": [],
   "source": [
    "import pandas as pd\n",
    "import time"
   ]
  },
  {
   "cell_type": "code",
   "execution_count": null,
   "metadata": {},
   "outputs": [],
   "source": [
    "import math\n",
    "\n",
    "def policy(params, substep, state_history, previous_state):\n",
    "    return {'step_size': 1}\n",
    "\n",
    "def update_a(params, substep, state_history, previous_state, policy_input):\n",
    "    a = b = c = d = e = 100.0\n",
    "    return 'a', previous_state['a'] * abs(math.cos(previous_state['a']))\n",
    "\n",
    "def update_b(params, substep, state_history, previous_state, policy_input):\n",
    "    return 'b', previous_state['b'] + policy_input['step_size'] * params['a']\n",
    "\n",
    "params = {\n",
    "    'a': [1, 2],\n",
    "    'b': [1]\n",
    "}\n",
    "\n",
    "states = {\n",
    "    'a': 1.0,\n",
    "    'b': 2.0\n",
    "}\n",
    "\n",
    "psubs = [\n",
    "    {\n",
    "        'policies': {},\n",
    "        'variables': {\n",
    "            'a': update_a\n",
    "        }\n",
    "    },\n",
    "    {\n",
    "        'policies': {\n",
    "            'p_1': policy,\n",
    "            'p_2': policy,\n",
    "            'p_3': policy,\n",
    "            'p_4': policy,\n",
    "            'p_5': policy,\n",
    "        },\n",
    "        'variables': {\n",
    "            'b': update_b\n",
    "        }\n",
    "    }\n",
    "]"
   ]
  },
  {
   "cell_type": "markdown",
   "metadata": {},
   "source": [
    "---"
   ]
  },
  {
   "cell_type": "code",
   "execution_count": null,
   "metadata": {},
   "outputs": [],
   "source": [
    "TIMESTEPS = 100_000\n",
    "RUNS = 1"
   ]
  },
  {
   "cell_type": "code",
   "execution_count": null,
   "metadata": {},
   "outputs": [],
   "source": [
    "import output.rad_cad as rc\n",
    "from output.rad_cad import Model, Simulation\n",
    "\n",
    "model = Model(initial_state=states, psubs=psubs, params=params)\n",
    "simulation = Simulation(model=model, timesteps=TIMESTEPS, runs=RUNS)\n",
    "\n",
    "start = time.time()\n",
    "data_rc = rc.run([simulation])\n",
    "end = time.time()\n",
    "duration = end - start\n",
    "print(duration)"
   ]
  },
  {
   "cell_type": "code",
   "execution_count": null,
   "metadata": {},
   "outputs": [],
   "source": [
    "df_radcad = pd.DataFrame(data_rc)\n",
    "print(df_radcad)"
   ]
  },
  {
   "cell_type": "code",
   "execution_count": null,
   "metadata": {},
   "outputs": [],
   "source": [
    "import time\n",
    "from concurrent.futures import ThreadPoolExecutor\n",
    "\n",
    "RUNS_THREADED = 2\n",
    "\n",
    "executor = ThreadPoolExecutor(max_workers=RUNS_THREADED)\n",
    "\n",
    "t0 = time.time()\n",
    "\n",
    "futures = []\n",
    "results = []\n",
    "for run in range(RUNS_THREADED):\n",
    "    future = executor.submit(rc.run, TIMESTEPS, 1, states, psubs, params)\n",
    "    futures.append(future)\n",
    "    result = future.result()\n",
    "    results.append(result)\n",
    "t1 = time.time()\n",
    "\n",
    "print(f\"Time: {t1 - t0}s\")"
   ]
  },
  {
   "cell_type": "markdown",
   "metadata": {},
   "source": [
    "---"
   ]
  },
  {
   "cell_type": "code",
   "execution_count": null,
   "metadata": {},
   "outputs": [],
   "source": [
    "from cadCAD.configuration.utils import config_sim\n",
    "from cadCAD.configuration import Experiment\n",
    "from cadCAD.engine import ExecutionMode, ExecutionContext\n",
    "from cadCAD.engine import Executor"
   ]
  },
  {
   "cell_type": "code",
   "execution_count": null,
   "metadata": {},
   "outputs": [],
   "source": [
    "from cadCAD import configs\n",
    "del configs[:] # Clear any prior configs\n",
    "\n",
    "config = {\n",
    "    \"N\": RUNS,\n",
    "    \"T\": range(TIMESTEPS),\n",
    "    \"M\": params\n",
    "}\n",
    "\n",
    "c = config_sim(config)\n",
    "\n",
    "exp = Experiment()\n",
    "exp.append_configs(\n",
    "    initial_state = states,\n",
    "    partial_state_update_blocks = psubs,\n",
    "    sim_configs = c\n",
    ")"
   ]
  },
  {
   "cell_type": "code",
   "execution_count": null,
   "metadata": {},
   "outputs": [],
   "source": [
    "exec_mode = ExecutionMode()\n",
    "local_mode_ctx = ExecutionContext(context=exec_mode.multi_mode)"
   ]
  },
  {
   "cell_type": "code",
   "execution_count": null,
   "metadata": {},
   "outputs": [],
   "source": [
    "simulation = Executor(exec_context=local_mode_ctx, configs=configs)"
   ]
  },
  {
   "cell_type": "code",
   "execution_count": null,
   "metadata": {},
   "outputs": [],
   "source": [
    "start = time.time()\n",
    "data, tensor_field, sessions = simulation.execute()\n",
    "end = time.time()\n",
    "print(end - start)\n",
    "\n",
    "df_cadcad = pd.DataFrame(data)\n",
    "print(df_cadcad)"
   ]
  },
  {
   "cell_type": "code",
   "execution_count": null,
   "metadata": {},
   "outputs": [],
   "source": [
    "from pandas.testing import assert_frame_equal\n",
    "\n",
    "assert_frame_equal(df_radcad.drop(['run'], axis=1), df_cadcad.drop(['run'], axis=1))"
   ]
  },
  {
   "cell_type": "markdown",
   "metadata": {},
   "source": [
    "---"
   ]
  },
  {
   "cell_type": "code",
   "execution_count": null,
   "metadata": {},
   "outputs": [],
   "source": [
    "time_profile = []\n",
    "\n",
    "for i in range(7):\n",
    "    timesteps = 10**i\n",
    "    start = time.time()\n",
    "    data_rc = rc.run(timesteps, 1, states, psubs, params)\n",
    "    end = time.time()\n",
    "    duration = end - start\n",
    "    time_profile.append({'timesteps': timesteps, 'duration': duration})"
   ]
  },
  {
   "cell_type": "code",
   "execution_count": null,
   "metadata": {},
   "outputs": [],
   "source": [
    "pd.DataFrame(time_profile).plot(x='timesteps', y='duration')"
   ]
  },
  {
   "cell_type": "markdown",
   "metadata": {},
   "source": [
    "---"
   ]
  },
  {
   "cell_type": "code",
   "execution_count": null,
   "metadata": {},
   "outputs": [],
   "source": [
    "%%capture\n",
    "time_profile_cadcad = []\n",
    "\n",
    "for i in range(7):\n",
    "    timesteps = 10**i\n",
    "    \n",
    "    from cadCAD import configs\n",
    "    del configs[:] # Clear any prior configs\n",
    "\n",
    "    config = {\n",
    "        \"N\": 1,\n",
    "        \"T\": range(timesteps),\n",
    "        \"M\": params\n",
    "    }\n",
    "\n",
    "    c = config_sim(config)\n",
    "\n",
    "    exp = Experiment()\n",
    "    exp.append_configs(\n",
    "        initial_state = states,\n",
    "        partial_state_update_blocks = psubs,\n",
    "        sim_configs = c\n",
    "    )\n",
    "    \n",
    "    exec_mode = ExecutionMode()\n",
    "    local_mode_ctx = ExecutionContext(context=exec_mode.local_mode)\n",
    "    \n",
    "    simulation = Executor(exec_context=local_mode_ctx, configs=configs)\n",
    "    \n",
    "    start = time.time()\n",
    "\n",
    "    data, tensor_field, sessions = simulation.execute()\n",
    "\n",
    "    end = time.time()\n",
    "    duration = end - start\n",
    "    time_profile_cadcad.append({'timesteps': timesteps, 'duration': duration})"
   ]
  },
  {
   "cell_type": "code",
   "execution_count": null,
   "metadata": {},
   "outputs": [],
   "source": [
    "pd.DataFrame(time_profile_cadcad).plot(x='timesteps', y='duration')"
   ]
  },
  {
   "cell_type": "markdown",
   "metadata": {},
   "source": [
    "---"
   ]
  },
  {
   "cell_type": "code",
   "execution_count": null,
   "metadata": {},
   "outputs": [],
   "source": [
    "df_rc = pd.DataFrame(time_profile)\n",
    "df_cc = pd.DataFrame(time_profile_cadcad)\n",
    "\n",
    "ax = df_rc.plot(x='timesteps', y='duration')\n",
    "df_cc.plot(ax=ax, x='timesteps', y='duration')"
   ]
  },
  {
   "cell_type": "code",
   "execution_count": null,
   "metadata": {},
   "outputs": [],
   "source": [
    "time_profile_cadcad[6]['duration']/time_profile[6]['duration']"
   ]
  },
  {
   "cell_type": "markdown",
   "metadata": {},
   "source": [
    "---"
   ]
  },
  {
   "cell_type": "code",
   "execution_count": null,
   "metadata": {},
   "outputs": [],
   "source": [
    "result = [states]\n",
    "\n",
    "def run():\n",
    "    for i in range(TIMESTEPS):\n",
    "        previous_state = result[-1]\n",
    "        next_state = {}\n",
    "        for psub in psubs:\n",
    "            for state in psub['updates']:\n",
    "                next_state.update({\n",
    "                    state: psub['updates'][state](previous_state)\n",
    "                })\n",
    "        result.append(next_state)\n",
    "    return result\n",
    "\n",
    "start = time.time()\n",
    "data = run()\n",
    "end = time.time()\n",
    "print(end - start)\n",
    "\n",
    "df = pd.DataFrame(data)\n",
    "df"
   ]
  }
 ],
 "metadata": {
  "kernelspec": {
   "display_name": "Python (Reflexer)",
   "language": "python",
   "name": "python-reflexer"
  },
  "language_info": {
   "codemirror_mode": {
    "name": "ipython",
    "version": 3
   },
   "file_extension": ".py",
   "mimetype": "text/x-python",
   "name": "python",
   "nbconvert_exporter": "python",
   "pygments_lexer": "ipython3",
   "version": "3.8.5"
  }
 },
 "nbformat": 4,
 "nbformat_minor": 4
}
