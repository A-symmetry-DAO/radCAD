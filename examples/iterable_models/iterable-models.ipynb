{
 "cells": [
  {
   "cell_type": "code",
   "execution_count": null,
   "id": "840c40c6-9688-49e3-92a6-944196b70bb2",
   "metadata": {},
   "outputs": [],
   "source": [
    "import time\n",
    "\n",
    "from radcad import Model\n",
    "from tests.test_cases.basic import states, state_update_blocks, params"
   ]
  },
  {
   "cell_type": "code",
   "execution_count": null,
   "id": "017d3fd3-81f3-480e-835b-020daa02c5a8",
   "metadata": {},
   "outputs": [],
   "source": [
    "import plotly.graph_objects as go\n",
    "\n",
    "fig = go.FigureWidget()\n",
    "fig.add_scatter()\n",
    "fig"
   ]
  },
  {
   "cell_type": "code",
   "execution_count": null,
   "id": "a97112f7-d5d2-405e-abca-cc673f46c8fd",
   "metadata": {},
   "outputs": [],
   "source": [
    "model = Model(initial_state=states, state_update_blocks=state_update_blocks, params=params)"
   ]
  },
  {
   "cell_type": "code",
   "execution_count": null,
   "id": "55d833d9-03a3-4c1e-9e67-afb9c56a5826",
   "metadata": {},
   "outputs": [],
   "source": [
    "timesteps = 100\n",
    "generator = iter(model)\n",
    "\n",
    "results = []\n",
    "\n",
    "for t in range(timesteps):\n",
    "    _model = next(generator)\n",
    "    a = _model.state['a']\n",
    "    results.append(a)\n",
    "    time.sleep(0.3)\n",
    "    fig.data[0].y = results[:t]"
   ]
  }
 ],
 "metadata": {
  "kernelspec": {
   "display_name": "python3-radcad",
   "language": "python",
   "name": "python3-radcad"
  },
  "language_info": {
   "codemirror_mode": {
    "name": "ipython",
    "version": 3
   },
   "file_extension": ".py",
   "mimetype": "text/x-python",
   "name": "python",
   "nbconvert_exporter": "python",
   "pygments_lexer": "ipython3",
   "version": "3.8.10"
  }
 },
 "nbformat": 4,
 "nbformat_minor": 5
}
